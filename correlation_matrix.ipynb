{
 "metadata": {
  "language_info": {
   "codemirror_mode": {
    "name": "ipython",
    "version": 3
   },
   "file_extension": ".py",
   "mimetype": "text/x-python",
   "name": "python",
   "nbconvert_exporter": "python",
   "pygments_lexer": "ipython3",
   "version": "3.8.5-final"
  },
  "orig_nbformat": 2,
  "kernelspec": {
   "name": "python3",
   "display_name": "Python 3.8.5 64-bit ('Rachel': virtualenv)",
   "metadata": {
    "interpreter": {
     "hash": "ccb7b26840b825c8924d4cfe054c3e169b8f58795accc090394d62bc14660e70"
    }
   }
  }
 },
 "nbformat": 4,
 "nbformat_minor": 2,
 "cells": [
  {
   "cell_type": "code",
   "execution_count": 12,
   "metadata": {},
   "outputs": [
    {
     "output_type": "execute_result",
     "data": {
      "text/plain": [
       "               Geo  Land Area (sq km)  GDP (Per capita USD)  Population  \\\n",
       "0      Afghanistan           652860.0                 484.0  37172000.0   \n",
       "1          Albania            27400.0                5254.0   2883000.0   \n",
       "2          Algeria          2381740.0                4154.0  42228000.0   \n",
       "3    Liechtenstein              160.0              180408.0     38000.0   \n",
       "4       Luxembourg             2430.0              117370.0    604000.0   \n",
       "..             ...                ...                   ...         ...   \n",
       "186      Venezuela           882050.0                7062.0  28887000.0   \n",
       "187       Viet Nam           310070.0                2566.0  95546000.0   \n",
       "188          Yemen           527970.0                 804.0  28499000.0   \n",
       "189        Burundi            25680.0                 276.0  11175000.0   \n",
       "190        Somalia           627340.0                 104.0  15008000.0   \n",
       "\n",
       "     Population Density (people/square km)  Change in Population 10yr  \\\n",
       "0                                 56.93717                    0.34088   \n",
       "1                                105.21898                   -0.03996   \n",
       "2                                 17.72989                    0.21586   \n",
       "3                                237.50000                    0.08571   \n",
       "4                                248.55967                    0.24536   \n",
       "..                                     ...                        ...   \n",
       "186                               32.74984                    0.04527   \n",
       "187                              308.14332                    0.10787   \n",
       "188                               53.97845                    0.30180   \n",
       "189                              435.16355                    0.37522   \n",
       "190                               23.92323                    0.31684   \n",
       "\n",
       "     Change in Energy 10yr  Percent Prod. Renewable  \\\n",
       "0                  0.74462                  0.26072   \n",
       "1                  0.08539                  0.39553   \n",
       "2                  0.76099                  0.00049   \n",
       "3                 -0.20732                  1.00000   \n",
       "4                 -0.03460                  1.00000   \n",
       "..                     ...                      ...   \n",
       "186               -0.45939                  0.04164   \n",
       "187                0.00603                  0.23344   \n",
       "188               -0.46642                  0.08950   \n",
       "189                0.04259                  0.99819   \n",
       "190                0.29548                  1.00000   \n",
       "\n",
       "     Nonrenewable Imports (Per Capita)  Renewable Production (Per Capita)  \n",
       "0                              0.00173                            0.00067  \n",
       "1                              0.01832                            0.01292  \n",
       "2                              0.00138                            0.00009  \n",
       "3                              0.02334                            0.00872  \n",
       "4                              0.22340                            0.00872  \n",
       "..                                 ...                                ...  \n",
       "186                            0.01060                            0.00817  \n",
       "187                            0.00360                            0.00723  \n",
       "188                            0.00218                            0.00033  \n",
       "189                            0.00083                            0.02762  \n",
       "190                            0.00032                            0.02477  \n",
       "\n",
       "[191 rows x 10 columns]"
      ],
      "text/html": "<div>\n<style scoped>\n    .dataframe tbody tr th:only-of-type {\n        vertical-align: middle;\n    }\n\n    .dataframe tbody tr th {\n        vertical-align: top;\n    }\n\n    .dataframe thead th {\n        text-align: right;\n    }\n</style>\n<table border=\"1\" class=\"dataframe\">\n  <thead>\n    <tr style=\"text-align: right;\">\n      <th></th>\n      <th>Geo</th>\n      <th>Land Area (sq km)</th>\n      <th>GDP (Per capita USD)</th>\n      <th>Population</th>\n      <th>Population Density (people/square km)</th>\n      <th>Change in Population 10yr</th>\n      <th>Change in Energy 10yr</th>\n      <th>Percent Prod. Renewable</th>\n      <th>Nonrenewable Imports (Per Capita)</th>\n      <th>Renewable Production (Per Capita)</th>\n    </tr>\n  </thead>\n  <tbody>\n    <tr>\n      <th>0</th>\n      <td>Afghanistan</td>\n      <td>652860.0</td>\n      <td>484.0</td>\n      <td>37172000.0</td>\n      <td>56.93717</td>\n      <td>0.34088</td>\n      <td>0.74462</td>\n      <td>0.26072</td>\n      <td>0.00173</td>\n      <td>0.00067</td>\n    </tr>\n    <tr>\n      <th>1</th>\n      <td>Albania</td>\n      <td>27400.0</td>\n      <td>5254.0</td>\n      <td>2883000.0</td>\n      <td>105.21898</td>\n      <td>-0.03996</td>\n      <td>0.08539</td>\n      <td>0.39553</td>\n      <td>0.01832</td>\n      <td>0.01292</td>\n    </tr>\n    <tr>\n      <th>2</th>\n      <td>Algeria</td>\n      <td>2381740.0</td>\n      <td>4154.0</td>\n      <td>42228000.0</td>\n      <td>17.72989</td>\n      <td>0.21586</td>\n      <td>0.76099</td>\n      <td>0.00049</td>\n      <td>0.00138</td>\n      <td>0.00009</td>\n    </tr>\n    <tr>\n      <th>3</th>\n      <td>Liechtenstein</td>\n      <td>160.0</td>\n      <td>180408.0</td>\n      <td>38000.0</td>\n      <td>237.50000</td>\n      <td>0.08571</td>\n      <td>-0.20732</td>\n      <td>1.00000</td>\n      <td>0.02334</td>\n      <td>0.00872</td>\n    </tr>\n    <tr>\n      <th>4</th>\n      <td>Luxembourg</td>\n      <td>2430.0</td>\n      <td>117370.0</td>\n      <td>604000.0</td>\n      <td>248.55967</td>\n      <td>0.24536</td>\n      <td>-0.03460</td>\n      <td>1.00000</td>\n      <td>0.22340</td>\n      <td>0.00872</td>\n    </tr>\n    <tr>\n      <th>...</th>\n      <td>...</td>\n      <td>...</td>\n      <td>...</td>\n      <td>...</td>\n      <td>...</td>\n      <td>...</td>\n      <td>...</td>\n      <td>...</td>\n      <td>...</td>\n      <td>...</td>\n    </tr>\n    <tr>\n      <th>186</th>\n      <td>Venezuela</td>\n      <td>882050.0</td>\n      <td>7062.0</td>\n      <td>28887000.0</td>\n      <td>32.74984</td>\n      <td>0.04527</td>\n      <td>-0.45939</td>\n      <td>0.04164</td>\n      <td>0.01060</td>\n      <td>0.00817</td>\n    </tr>\n    <tr>\n      <th>187</th>\n      <td>Viet Nam</td>\n      <td>310070.0</td>\n      <td>2566.0</td>\n      <td>95546000.0</td>\n      <td>308.14332</td>\n      <td>0.10787</td>\n      <td>0.00603</td>\n      <td>0.23344</td>\n      <td>0.00360</td>\n      <td>0.00723</td>\n    </tr>\n    <tr>\n      <th>188</th>\n      <td>Yemen</td>\n      <td>527970.0</td>\n      <td>804.0</td>\n      <td>28499000.0</td>\n      <td>53.97845</td>\n      <td>0.30180</td>\n      <td>-0.46642</td>\n      <td>0.08950</td>\n      <td>0.00218</td>\n      <td>0.00033</td>\n    </tr>\n    <tr>\n      <th>189</th>\n      <td>Burundi</td>\n      <td>25680.0</td>\n      <td>276.0</td>\n      <td>11175000.0</td>\n      <td>435.16355</td>\n      <td>0.37522</td>\n      <td>0.04259</td>\n      <td>0.99819</td>\n      <td>0.00083</td>\n      <td>0.02762</td>\n    </tr>\n    <tr>\n      <th>190</th>\n      <td>Somalia</td>\n      <td>627340.0</td>\n      <td>104.0</td>\n      <td>15008000.0</td>\n      <td>23.92323</td>\n      <td>0.31684</td>\n      <td>0.29548</td>\n      <td>1.00000</td>\n      <td>0.00032</td>\n      <td>0.02477</td>\n    </tr>\n  </tbody>\n</table>\n<p>191 rows × 10 columns</p>\n</div>"
     },
     "metadata": {},
     "execution_count": 12
    }
   ],
   "source": [
    "import pandas as pd \n",
    "\n",
    "\n",
    "df = pd.read_csv('C:/Users/Rachel/OneDrive/Documents/Springboard/CAPSTONE 2/energy/correlation_melt.csv', header=0)\n",
    "df\n"
   ]
  },
  {
   "cell_type": "code",
   "execution_count": 13,
   "metadata": {},
   "outputs": [
    {
     "output_type": "execute_result",
     "data": {
      "text/plain": [
       "                Geo                               Type         value\n",
       "0       Afghanistan                  Land Area (sq km)  6.528600e+05\n",
       "1           Albania                  Land Area (sq km)  2.740000e+04\n",
       "2           Algeria                  Land Area (sq km)  2.381740e+06\n",
       "3     Liechtenstein                  Land Area (sq km)  1.600000e+02\n",
       "4        Luxembourg                  Land Area (sq km)  2.430000e+03\n",
       "...             ...                                ...           ...\n",
       "1714      Venezuela  Renewable Production (Per Capita)  8.170000e-03\n",
       "1715       Viet Nam  Renewable Production (Per Capita)  7.230000e-03\n",
       "1716          Yemen  Renewable Production (Per Capita)  3.300000e-04\n",
       "1717        Burundi  Renewable Production (Per Capita)  2.762000e-02\n",
       "1718        Somalia  Renewable Production (Per Capita)  2.477000e-02\n",
       "\n",
       "[1719 rows x 3 columns]"
      ],
      "text/html": "<div>\n<style scoped>\n    .dataframe tbody tr th:only-of-type {\n        vertical-align: middle;\n    }\n\n    .dataframe tbody tr th {\n        vertical-align: top;\n    }\n\n    .dataframe thead th {\n        text-align: right;\n    }\n</style>\n<table border=\"1\" class=\"dataframe\">\n  <thead>\n    <tr style=\"text-align: right;\">\n      <th></th>\n      <th>Geo</th>\n      <th>Type</th>\n      <th>value</th>\n    </tr>\n  </thead>\n  <tbody>\n    <tr>\n      <th>0</th>\n      <td>Afghanistan</td>\n      <td>Land Area (sq km)</td>\n      <td>6.528600e+05</td>\n    </tr>\n    <tr>\n      <th>1</th>\n      <td>Albania</td>\n      <td>Land Area (sq km)</td>\n      <td>2.740000e+04</td>\n    </tr>\n    <tr>\n      <th>2</th>\n      <td>Algeria</td>\n      <td>Land Area (sq km)</td>\n      <td>2.381740e+06</td>\n    </tr>\n    <tr>\n      <th>3</th>\n      <td>Liechtenstein</td>\n      <td>Land Area (sq km)</td>\n      <td>1.600000e+02</td>\n    </tr>\n    <tr>\n      <th>4</th>\n      <td>Luxembourg</td>\n      <td>Land Area (sq km)</td>\n      <td>2.430000e+03</td>\n    </tr>\n    <tr>\n      <th>...</th>\n      <td>...</td>\n      <td>...</td>\n      <td>...</td>\n    </tr>\n    <tr>\n      <th>1714</th>\n      <td>Venezuela</td>\n      <td>Renewable Production (Per Capita)</td>\n      <td>8.170000e-03</td>\n    </tr>\n    <tr>\n      <th>1715</th>\n      <td>Viet Nam</td>\n      <td>Renewable Production (Per Capita)</td>\n      <td>7.230000e-03</td>\n    </tr>\n    <tr>\n      <th>1716</th>\n      <td>Yemen</td>\n      <td>Renewable Production (Per Capita)</td>\n      <td>3.300000e-04</td>\n    </tr>\n    <tr>\n      <th>1717</th>\n      <td>Burundi</td>\n      <td>Renewable Production (Per Capita)</td>\n      <td>2.762000e-02</td>\n    </tr>\n    <tr>\n      <th>1718</th>\n      <td>Somalia</td>\n      <td>Renewable Production (Per Capita)</td>\n      <td>2.477000e-02</td>\n    </tr>\n  </tbody>\n</table>\n<p>1719 rows × 3 columns</p>\n</div>"
     },
     "metadata": {},
     "execution_count": 13
    }
   ],
   "source": [
    "df_melt = pd.melt(df, id_vars=['Geo'], var_name='Type')\n",
    "df_melt"
   ]
  },
  {
   "cell_type": "code",
   "execution_count": 14,
   "metadata": {},
   "outputs": [],
   "source": [
    "df_melt.to_csv('C:/Users/Rachel/OneDrive/Documents/Springboard/CAPSTONE 2/energy/correlation_melted.csv')"
   ]
  }
 ]
}