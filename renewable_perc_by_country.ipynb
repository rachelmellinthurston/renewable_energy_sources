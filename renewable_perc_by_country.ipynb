{
 "metadata": {
  "language_info": {
   "codemirror_mode": {
    "name": "ipython",
    "version": 3
   },
   "file_extension": ".py",
   "mimetype": "text/x-python",
   "name": "python",
   "nbconvert_exporter": "python",
   "pygments_lexer": "ipython3",
   "version": "3.8.5-final"
  },
  "orig_nbformat": 2,
  "kernelspec": {
   "name": "python3",
   "display_name": "Python 3.8.5 64-bit (conda)",
   "metadata": {
    "interpreter": {
     "hash": "ccb7b26840b825c8924d4cfe054c3e169b8f58795accc090394d62bc14660e70"
    }
   }
  }
 },
 "nbformat": 4,
 "nbformat_minor": 2,
 "cells": [
  {
   "cell_type": "code",
   "execution_count": 17,
   "metadata": {},
   "outputs": [
    {
     "output_type": "execute_result",
     "data": {
      "text/plain": [
       "                  Geo             Commodity - Transaction    Year  \\\n",
       "17533  United Kingdom   Vegetal waste - Final consumption  1997.0   \n",
       "14860      Madagascar      Lubricants - Final consumption  2007.0   \n",
       "16243          Jordan        Charcoal - Final consumption  2007.0   \n",
       "59394            Togo  Motor Gasoline - Final consumption  2008.0   \n",
       "6620          Denmark         Bitumen - Final consumption  2010.0   \n",
       "\n",
       "                         Unit  Quantity  Quantity Footnotes       Commodity  \\\n",
       "17533              Terajoules  7874.000                 1.0   vegetal waste   \n",
       "14860  Metric tons,  thousand     4.469                 1.0      lubricants   \n",
       "16243  Metric tons,  thousand    19.000                 NaN        charcoal   \n",
       "59394  Metric tons,  thousand   177.000                 NaN  motor gasoline   \n",
       "6620   Metric tons,  thousand   213.000                 NaN         bitumen   \n",
       "\n",
       "             Transaction  \n",
       "17533  final consumption  \n",
       "14860  final consumption  \n",
       "16243  final consumption  \n",
       "59394  final consumption  \n",
       "6620   final consumption  "
      ],
      "text/html": "<div>\n<style scoped>\n    .dataframe tbody tr th:only-of-type {\n        vertical-align: middle;\n    }\n\n    .dataframe tbody tr th {\n        vertical-align: top;\n    }\n\n    .dataframe thead th {\n        text-align: right;\n    }\n</style>\n<table border=\"1\" class=\"dataframe\">\n  <thead>\n    <tr style=\"text-align: right;\">\n      <th></th>\n      <th>Geo</th>\n      <th>Commodity - Transaction</th>\n      <th>Year</th>\n      <th>Unit</th>\n      <th>Quantity</th>\n      <th>Quantity Footnotes</th>\n      <th>Commodity</th>\n      <th>Transaction</th>\n    </tr>\n  </thead>\n  <tbody>\n    <tr>\n      <th>17533</th>\n      <td>United Kingdom</td>\n      <td>Vegetal waste - Final consumption</td>\n      <td>1997.0</td>\n      <td>Terajoules</td>\n      <td>7874.000</td>\n      <td>1.0</td>\n      <td>vegetal waste</td>\n      <td>final consumption</td>\n    </tr>\n    <tr>\n      <th>14860</th>\n      <td>Madagascar</td>\n      <td>Lubricants - Final consumption</td>\n      <td>2007.0</td>\n      <td>Metric tons,  thousand</td>\n      <td>4.469</td>\n      <td>1.0</td>\n      <td>lubricants</td>\n      <td>final consumption</td>\n    </tr>\n    <tr>\n      <th>16243</th>\n      <td>Jordan</td>\n      <td>Charcoal - Final consumption</td>\n      <td>2007.0</td>\n      <td>Metric tons,  thousand</td>\n      <td>19.000</td>\n      <td>NaN</td>\n      <td>charcoal</td>\n      <td>final consumption</td>\n    </tr>\n    <tr>\n      <th>59394</th>\n      <td>Togo</td>\n      <td>Motor Gasoline - Final consumption</td>\n      <td>2008.0</td>\n      <td>Metric tons,  thousand</td>\n      <td>177.000</td>\n      <td>NaN</td>\n      <td>motor gasoline</td>\n      <td>final consumption</td>\n    </tr>\n    <tr>\n      <th>6620</th>\n      <td>Denmark</td>\n      <td>Bitumen - Final consumption</td>\n      <td>2010.0</td>\n      <td>Metric tons,  thousand</td>\n      <td>213.000</td>\n      <td>NaN</td>\n      <td>bitumen</td>\n      <td>final consumption</td>\n    </tr>\n  </tbody>\n</table>\n</div>"
     },
     "metadata": {},
     "execution_count": 17
    }
   ],
   "source": [
    "#combining all datasets using map function\n",
    "\n",
    "import glob\n",
    "import pandas as pd \n",
    "\n",
    "#map renewables\n",
    "\n",
    "df_renew = pd.concat(map(pd.read_csv, glob.glob('C:/Users/Rachel/OneDrive/Documents/Springboard/CAPSTONE 2/energy/raw_data_renewable/*.csv')))\n",
    "df_renew.rename(columns={'Country or Area':'Geo'}, inplace=True)\n",
    "\n",
    "#map nonrenewables\n",
    "\n",
    "df_nonrenew = pd.concat(map(pd.read_csv, glob.glob('C:/Users/Rachel/OneDrive/Documents/Springboard/CAPSTONE 2/energy/raw_data_nonrenewable/*.csv')))\n",
    "df_nonrenew.rename(columns={'Country or Area':'Geo'}, inplace=True)\n",
    "\n",
    "df = pd.concat([df_renew, df_nonrenew])\n",
    "\n",
    "#split commodity and transaction into two columns\n",
    "#defining column to split and which delimiter\n",
    "ct = df['Commodity - Transaction'].str.split('-')\n",
    "\n",
    "#assigning new columns\n",
    "df['Commodity'] = ct.str.get(0)\n",
    "df['Transaction'] = ct.str.get(1)\n",
    "\n",
    "#lowercase and remove trailing and leading spaces\n",
    "df['Commodity'] = df['Commodity'].str.lower()\n",
    "df['Commodity'] = df['Commodity'].str.strip()\n",
    "\n",
    "df['Transaction'] = df['Transaction'].str.lower()\n",
    "df['Transaction'] = df['Transaction'].str.strip()\n",
    "\n",
    "df = df[df['Transaction'] == 'final consumption']\n",
    "\n",
    "df.sample(5)"
   ]
  },
  {
   "cell_type": "code",
   "execution_count": 18,
   "metadata": {},
   "outputs": [
    {
     "output_type": "execute_result",
     "data": {
      "text/plain": [
       "           Geo                            Commodity - Transaction    Year  \\\n",
       "31008  Belgium                       Coal Tar - Final consumption  2017.0   \n",
       "50399  Mayotte  Liquefied petroleum gas (LPG) - Final consumption  2005.0   \n",
       "\n",
       "                         Unit  Quantity  Quantity Footnotes  \\\n",
       "31008  Metric tons,  thousand     283.0                 NaN   \n",
       "50399  Metric tons,  thousand       1.4                 1.0   \n",
       "\n",
       "                           Commodity        Transaction  \\\n",
       "31008                       coal tar  final consumption   \n",
       "50399  liquefied petroleum gas (lpg)  final consumption   \n",
       "\n",
       "                                             Description  \\\n",
       "31008  Coal tar is used primarily for the production ...   \n",
       "50399                                                NaN   \n",
       "\n",
       "                       Units  Conv_mt_to_tj        r_type       TJ  \n",
       "31008  Metric tons, thousand           28.0  nonrenewable  7924.00  \n",
       "50399  Metric tons, thousand           47.3  nonrenewable    66.22  "
      ],
      "text/html": "<div>\n<style scoped>\n    .dataframe tbody tr th:only-of-type {\n        vertical-align: middle;\n    }\n\n    .dataframe tbody tr th {\n        vertical-align: top;\n    }\n\n    .dataframe thead th {\n        text-align: right;\n    }\n</style>\n<table border=\"1\" class=\"dataframe\">\n  <thead>\n    <tr style=\"text-align: right;\">\n      <th></th>\n      <th>Geo</th>\n      <th>Commodity - Transaction</th>\n      <th>Year</th>\n      <th>Unit</th>\n      <th>Quantity</th>\n      <th>Quantity Footnotes</th>\n      <th>Commodity</th>\n      <th>Transaction</th>\n      <th>Description</th>\n      <th>Units</th>\n      <th>Conv_mt_to_tj</th>\n      <th>r_type</th>\n      <th>TJ</th>\n    </tr>\n  </thead>\n  <tbody>\n    <tr>\n      <th>31008</th>\n      <td>Belgium</td>\n      <td>Coal Tar - Final consumption</td>\n      <td>2017.0</td>\n      <td>Metric tons,  thousand</td>\n      <td>283.0</td>\n      <td>NaN</td>\n      <td>coal tar</td>\n      <td>final consumption</td>\n      <td>Coal tar is used primarily for the production ...</td>\n      <td>Metric tons, thousand</td>\n      <td>28.0</td>\n      <td>nonrenewable</td>\n      <td>7924.00</td>\n    </tr>\n    <tr>\n      <th>50399</th>\n      <td>Mayotte</td>\n      <td>Liquefied petroleum gas (LPG) - Final consumption</td>\n      <td>2005.0</td>\n      <td>Metric tons,  thousand</td>\n      <td>1.4</td>\n      <td>1.0</td>\n      <td>liquefied petroleum gas (lpg)</td>\n      <td>final consumption</td>\n      <td>NaN</td>\n      <td>Metric tons, thousand</td>\n      <td>47.3</td>\n      <td>nonrenewable</td>\n      <td>66.22</td>\n    </tr>\n  </tbody>\n</table>\n</div>"
     },
     "metadata": {},
     "execution_count": 18
    }
   ],
   "source": [
    "import pandas as pd \n",
    "unit_conv = pd.read_csv('C:/Users/Rachel/OneDrive/Documents/Springboard/CAPSTONE 2/energy/renewable_energy_units_conv_2.csv')\n",
    "\n",
    "df_merge = pd.merge(df,  \n",
    "                     unit_conv,  \n",
    "                     on ='Commodity', \n",
    "                     how ='left') \n",
    "\n",
    "df_merge['TJ'] = df_merge['Quantity'] * df_merge['Conv_mt_to_tj']\n",
    "df_merge.sample(2)"
   ]
  },
  {
   "cell_type": "code",
   "execution_count": 19,
   "metadata": {},
   "outputs": [],
   "source": [
    "\n",
    "lt_2018 = df_merge[df_merge['Year'] == 2013]\n",
    "tot_grp_country = lt_2018.groupby(['Geo'])\n",
    "df_tot_country = tot_grp_country['TJ'].agg(['sum'])\n",
    "\n",
    "#sum all renewables\n",
    "lt_2018_r = df_merge[(df_merge['Year'] == 2013) & (df_merge['r_type'] == 'renewable')]\n",
    "tot_r_grp_country = lt_2018_r.groupby(['Geo'])\n",
    "df_tot_country_r = tot_r_grp_country['TJ'].agg(['sum'])\n",
    "\n",
    "#sum all nonrenewables\n",
    "lt_2018_n = df_merge[(df_merge['Year'] == 2013) & (df_merge['r_type'] == 'nonrenewable')]\n",
    "tot_n_grp_country = lt_2018_n.groupby(['Geo'])\n",
    "df_tot_country_n = tot_n_grp_country['TJ'].agg(['sum'])"
   ]
  },
  {
   "cell_type": "code",
   "execution_count": 20,
   "metadata": {},
   "outputs": [
    {
     "output_type": "execute_result",
     "data": {
      "text/plain": [
       "                                  total          renew      nonrenew  \\\n",
       "Geo                                                                    \n",
       "Somalia                   102277.080960   97936.690960   4340.390000   \n",
       "Uganda                    468227.770292  445342.173805  22885.596487   \n",
       "Dem. Rep. of the Congo    759556.515868  711877.515868  47679.000000   \n",
       "United Rep. of Tanzania   617675.549532  570756.549532  46919.000000   \n",
       "Zambia                    278842.131252  257466.731252  21375.400000   \n",
       "...                                 ...            ...           ...   \n",
       "Nauru                        355.573000            NaN    355.573000   \n",
       "Palau                       2083.020000            NaN   2083.020000   \n",
       "Turks and Caicos Islands       6.445320       6.445320           NaN   \n",
       "Tuvalu                        36.766300            NaN     36.766300   \n",
       "Wallis and Futuna Is.         70.729000            NaN     70.729000   \n",
       "\n",
       "                          percent_renewable  \n",
       "Geo                                          \n",
       "Somalia                           95.756244  \n",
       "Uganda                            95.112294  \n",
       "Dem. Rep. of the Congo            93.722784  \n",
       "United Rep. of Tanzania           92.403941  \n",
       "Zambia                            92.334229  \n",
       "...                                     ...  \n",
       "Nauru                                   NaN  \n",
       "Palau                                   NaN  \n",
       "Turks and Caicos Islands                NaN  \n",
       "Tuvalu                                  NaN  \n",
       "Wallis and Futuna Is.                   NaN  \n",
       "\n",
       "[225 rows x 4 columns]"
      ],
      "text/html": "<div>\n<style scoped>\n    .dataframe tbody tr th:only-of-type {\n        vertical-align: middle;\n    }\n\n    .dataframe tbody tr th {\n        vertical-align: top;\n    }\n\n    .dataframe thead th {\n        text-align: right;\n    }\n</style>\n<table border=\"1\" class=\"dataframe\">\n  <thead>\n    <tr style=\"text-align: right;\">\n      <th></th>\n      <th>total</th>\n      <th>renew</th>\n      <th>nonrenew</th>\n      <th>percent_renewable</th>\n    </tr>\n    <tr>\n      <th>Geo</th>\n      <th></th>\n      <th></th>\n      <th></th>\n      <th></th>\n    </tr>\n  </thead>\n  <tbody>\n    <tr>\n      <th>Somalia</th>\n      <td>102277.080960</td>\n      <td>97936.690960</td>\n      <td>4340.390000</td>\n      <td>95.756244</td>\n    </tr>\n    <tr>\n      <th>Uganda</th>\n      <td>468227.770292</td>\n      <td>445342.173805</td>\n      <td>22885.596487</td>\n      <td>95.112294</td>\n    </tr>\n    <tr>\n      <th>Dem. Rep. of the Congo</th>\n      <td>759556.515868</td>\n      <td>711877.515868</td>\n      <td>47679.000000</td>\n      <td>93.722784</td>\n    </tr>\n    <tr>\n      <th>United Rep. of Tanzania</th>\n      <td>617675.549532</td>\n      <td>570756.549532</td>\n      <td>46919.000000</td>\n      <td>92.403941</td>\n    </tr>\n    <tr>\n      <th>Zambia</th>\n      <td>278842.131252</td>\n      <td>257466.731252</td>\n      <td>21375.400000</td>\n      <td>92.334229</td>\n    </tr>\n    <tr>\n      <th>...</th>\n      <td>...</td>\n      <td>...</td>\n      <td>...</td>\n      <td>...</td>\n    </tr>\n    <tr>\n      <th>Nauru</th>\n      <td>355.573000</td>\n      <td>NaN</td>\n      <td>355.573000</td>\n      <td>NaN</td>\n    </tr>\n    <tr>\n      <th>Palau</th>\n      <td>2083.020000</td>\n      <td>NaN</td>\n      <td>2083.020000</td>\n      <td>NaN</td>\n    </tr>\n    <tr>\n      <th>Turks and Caicos Islands</th>\n      <td>6.445320</td>\n      <td>6.445320</td>\n      <td>NaN</td>\n      <td>NaN</td>\n    </tr>\n    <tr>\n      <th>Tuvalu</th>\n      <td>36.766300</td>\n      <td>NaN</td>\n      <td>36.766300</td>\n      <td>NaN</td>\n    </tr>\n    <tr>\n      <th>Wallis and Futuna Is.</th>\n      <td>70.729000</td>\n      <td>NaN</td>\n      <td>70.729000</td>\n      <td>NaN</td>\n    </tr>\n  </tbody>\n</table>\n<p>225 rows × 4 columns</p>\n</div>"
     },
     "metadata": {},
     "execution_count": 20
    }
   ],
   "source": [
    "#merge total, renewable, and nonrenewable dataframes\n",
    "\n",
    "countries_r = pd.merge(df_tot_country,  \n",
    "                     df_tot_country_r,  \n",
    "                     on ='Geo', \n",
    "                     how ='left') \n",
    "\n",
    "countries_r_n = pd.merge(countries_r,\n",
    "                    df_tot_country_n,\n",
    "                    on = 'Geo', \n",
    "                    how = 'left')\n",
    "\n",
    "countries_r_n.rename(columns={'sum_x':'total', 'sum_y': 'renew', 'sum' : 'nonrenew'}, inplace=True)\n",
    "countries_r_n['percent_renewable'] = (countries_r_n['renew'] / (countries_r_n['renew'] + countries_r_n['nonrenew'])) * 100\n",
    "countries_r_n.sort_values(by='percent_renewable', ascending=False, inplace=True)\n",
    "#allsources_r_n['diff'] = allsources_r_n['renew'] + allsources_r_n['nonrenew']#\n",
    "\n",
    "countries_r_n"
   ]
  },
  {
   "cell_type": "code",
   "execution_count": 21,
   "metadata": {},
   "outputs": [],
   "source": [
    "#export results to csv for tableau viz, keep commented out\n",
    "\n",
    "#countries_r_n.to_csv('countries_percent_renewable_2013.csv')"
   ]
  },
  {
   "cell_type": "code",
   "execution_count": 22,
   "metadata": {},
   "outputs": [
    {
     "output_type": "error",
     "ename": "ValueError",
     "evalue": "'label' must be of length 'x'",
     "traceback": [
      "\u001b[1;31m---------------------------------------------------------------------------\u001b[0m",
      "\u001b[1;31mValueError\u001b[0m                                Traceback (most recent call last)",
      "\u001b[1;32m<ipython-input-22-ec42269348ad>\u001b[0m in \u001b[0;36m<module>\u001b[1;34m\u001b[0m\n\u001b[0;32m     15\u001b[0m     \u001b[1;31m#plt.style.use(\"fivethirtyeight\")\u001b[0m\u001b[1;33m\u001b[0m\u001b[1;33m\u001b[0m\u001b[1;33m\u001b[0m\u001b[0m\n\u001b[0;32m     16\u001b[0m \u001b[1;33m\u001b[0m\u001b[0m\n\u001b[1;32m---> 17\u001b[1;33m     \u001b[0mplt\u001b[0m\u001b[1;33m.\u001b[0m\u001b[0mpie\u001b[0m\u001b[1;33m(\u001b[0m\u001b[0mpie\u001b[0m\u001b[1;33m,\u001b[0m \u001b[0mlabels\u001b[0m\u001b[1;33m=\u001b[0m\u001b[0mlabels\u001b[0m\u001b[1;33m,\u001b[0m \u001b[0mwedgeprops\u001b[0m\u001b[1;33m=\u001b[0m\u001b[1;33m{\u001b[0m\u001b[1;34m'edgecolor'\u001b[0m\u001b[1;33m:\u001b[0m\u001b[1;34m'black'\u001b[0m\u001b[1;33m}\u001b[0m\u001b[1;33m)\u001b[0m\u001b[1;33m\u001b[0m\u001b[1;33m\u001b[0m\u001b[0m\n\u001b[0m\u001b[0;32m     18\u001b[0m     \u001b[0mplt\u001b[0m\u001b[1;33m.\u001b[0m\u001b[0mtitle\u001b[0m\u001b[1;33m(\u001b[0m\u001b[0mstr\u001b[0m\u001b[1;33m(\u001b[0m\u001b[0mgeo\u001b[0m\u001b[1;33m)\u001b[0m\u001b[1;33m)\u001b[0m\u001b[1;33m\u001b[0m\u001b[1;33m\u001b[0m\u001b[0m\n\u001b[0;32m     19\u001b[0m     \u001b[1;31m#plt.tight_layout()\u001b[0m\u001b[1;33m\u001b[0m\u001b[1;33m\u001b[0m\u001b[1;33m\u001b[0m\u001b[0m\n",
      "\u001b[1;32m~\\anaconda3\\lib\\site-packages\\matplotlib\\pyplot.py\u001b[0m in \u001b[0;36mpie\u001b[1;34m(x, explode, labels, colors, autopct, pctdistance, shadow, labeldistance, startangle, radius, counterclock, wedgeprops, textprops, center, frame, rotatelabels, normalize, data)\u001b[0m\n\u001b[0;32m   2825\u001b[0m         \u001b[0mtextprops\u001b[0m\u001b[1;33m=\u001b[0m\u001b[1;32mNone\u001b[0m\u001b[1;33m,\u001b[0m \u001b[0mcenter\u001b[0m\u001b[1;33m=\u001b[0m\u001b[1;33m(\u001b[0m\u001b[1;36m0\u001b[0m\u001b[1;33m,\u001b[0m \u001b[1;36m0\u001b[0m\u001b[1;33m)\u001b[0m\u001b[1;33m,\u001b[0m \u001b[0mframe\u001b[0m\u001b[1;33m=\u001b[0m\u001b[1;32mFalse\u001b[0m\u001b[1;33m,\u001b[0m\u001b[1;33m\u001b[0m\u001b[1;33m\u001b[0m\u001b[0m\n\u001b[0;32m   2826\u001b[0m         rotatelabels=False, *, normalize=None, data=None):\n\u001b[1;32m-> 2827\u001b[1;33m     return gca().pie(\n\u001b[0m\u001b[0;32m   2828\u001b[0m         \u001b[0mx\u001b[0m\u001b[1;33m,\u001b[0m \u001b[0mexplode\u001b[0m\u001b[1;33m=\u001b[0m\u001b[0mexplode\u001b[0m\u001b[1;33m,\u001b[0m \u001b[0mlabels\u001b[0m\u001b[1;33m=\u001b[0m\u001b[0mlabels\u001b[0m\u001b[1;33m,\u001b[0m \u001b[0mcolors\u001b[0m\u001b[1;33m=\u001b[0m\u001b[0mcolors\u001b[0m\u001b[1;33m,\u001b[0m\u001b[1;33m\u001b[0m\u001b[1;33m\u001b[0m\u001b[0m\n\u001b[0;32m   2829\u001b[0m         \u001b[0mautopct\u001b[0m\u001b[1;33m=\u001b[0m\u001b[0mautopct\u001b[0m\u001b[1;33m,\u001b[0m \u001b[0mpctdistance\u001b[0m\u001b[1;33m=\u001b[0m\u001b[0mpctdistance\u001b[0m\u001b[1;33m,\u001b[0m \u001b[0mshadow\u001b[0m\u001b[1;33m=\u001b[0m\u001b[0mshadow\u001b[0m\u001b[1;33m,\u001b[0m\u001b[1;33m\u001b[0m\u001b[1;33m\u001b[0m\u001b[0m\n",
      "\u001b[1;32m~\\anaconda3\\lib\\site-packages\\matplotlib\\__init__.py\u001b[0m in \u001b[0;36minner\u001b[1;34m(ax, data, *args, **kwargs)\u001b[0m\n\u001b[0;32m   1436\u001b[0m     \u001b[1;32mdef\u001b[0m \u001b[0minner\u001b[0m\u001b[1;33m(\u001b[0m\u001b[0max\u001b[0m\u001b[1;33m,\u001b[0m \u001b[1;33m*\u001b[0m\u001b[0margs\u001b[0m\u001b[1;33m,\u001b[0m \u001b[0mdata\u001b[0m\u001b[1;33m=\u001b[0m\u001b[1;32mNone\u001b[0m\u001b[1;33m,\u001b[0m \u001b[1;33m**\u001b[0m\u001b[0mkwargs\u001b[0m\u001b[1;33m)\u001b[0m\u001b[1;33m:\u001b[0m\u001b[1;33m\u001b[0m\u001b[1;33m\u001b[0m\u001b[0m\n\u001b[0;32m   1437\u001b[0m         \u001b[1;32mif\u001b[0m \u001b[0mdata\u001b[0m \u001b[1;32mis\u001b[0m \u001b[1;32mNone\u001b[0m\u001b[1;33m:\u001b[0m\u001b[1;33m\u001b[0m\u001b[1;33m\u001b[0m\u001b[0m\n\u001b[1;32m-> 1438\u001b[1;33m             \u001b[1;32mreturn\u001b[0m \u001b[0mfunc\u001b[0m\u001b[1;33m(\u001b[0m\u001b[0max\u001b[0m\u001b[1;33m,\u001b[0m \u001b[1;33m*\u001b[0m\u001b[0mmap\u001b[0m\u001b[1;33m(\u001b[0m\u001b[0msanitize_sequence\u001b[0m\u001b[1;33m,\u001b[0m \u001b[0margs\u001b[0m\u001b[1;33m)\u001b[0m\u001b[1;33m,\u001b[0m \u001b[1;33m**\u001b[0m\u001b[0mkwargs\u001b[0m\u001b[1;33m)\u001b[0m\u001b[1;33m\u001b[0m\u001b[1;33m\u001b[0m\u001b[0m\n\u001b[0m\u001b[0;32m   1439\u001b[0m \u001b[1;33m\u001b[0m\u001b[0m\n\u001b[0;32m   1440\u001b[0m         \u001b[0mbound\u001b[0m \u001b[1;33m=\u001b[0m \u001b[0mnew_sig\u001b[0m\u001b[1;33m.\u001b[0m\u001b[0mbind\u001b[0m\u001b[1;33m(\u001b[0m\u001b[0max\u001b[0m\u001b[1;33m,\u001b[0m \u001b[1;33m*\u001b[0m\u001b[0margs\u001b[0m\u001b[1;33m,\u001b[0m \u001b[1;33m**\u001b[0m\u001b[0mkwargs\u001b[0m\u001b[1;33m)\u001b[0m\u001b[1;33m\u001b[0m\u001b[1;33m\u001b[0m\u001b[0m\n",
      "\u001b[1;32m~\\anaconda3\\lib\\site-packages\\matplotlib\\axes\\_axes.py\u001b[0m in \u001b[0;36mpie\u001b[1;34m(self, x, explode, labels, colors, autopct, pctdistance, shadow, labeldistance, startangle, radius, counterclock, wedgeprops, textprops, center, frame, rotatelabels, normalize)\u001b[0m\n\u001b[0;32m   3022\u001b[0m             \u001b[0mexplode\u001b[0m \u001b[1;33m=\u001b[0m \u001b[1;33m[\u001b[0m\u001b[1;36m0\u001b[0m\u001b[1;33m]\u001b[0m \u001b[1;33m*\u001b[0m \u001b[0mlen\u001b[0m\u001b[1;33m(\u001b[0m\u001b[0mx\u001b[0m\u001b[1;33m)\u001b[0m\u001b[1;33m\u001b[0m\u001b[1;33m\u001b[0m\u001b[0m\n\u001b[0;32m   3023\u001b[0m         \u001b[1;32mif\u001b[0m \u001b[0mlen\u001b[0m\u001b[1;33m(\u001b[0m\u001b[0mx\u001b[0m\u001b[1;33m)\u001b[0m \u001b[1;33m!=\u001b[0m \u001b[0mlen\u001b[0m\u001b[1;33m(\u001b[0m\u001b[0mlabels\u001b[0m\u001b[1;33m)\u001b[0m\u001b[1;33m:\u001b[0m\u001b[1;33m\u001b[0m\u001b[1;33m\u001b[0m\u001b[0m\n\u001b[1;32m-> 3024\u001b[1;33m             \u001b[1;32mraise\u001b[0m \u001b[0mValueError\u001b[0m\u001b[1;33m(\u001b[0m\u001b[1;34m\"'label' must be of length 'x'\"\u001b[0m\u001b[1;33m)\u001b[0m\u001b[1;33m\u001b[0m\u001b[1;33m\u001b[0m\u001b[0m\n\u001b[0m\u001b[0;32m   3025\u001b[0m         \u001b[1;32mif\u001b[0m \u001b[0mlen\u001b[0m\u001b[1;33m(\u001b[0m\u001b[0mx\u001b[0m\u001b[1;33m)\u001b[0m \u001b[1;33m!=\u001b[0m \u001b[0mlen\u001b[0m\u001b[1;33m(\u001b[0m\u001b[0mexplode\u001b[0m\u001b[1;33m)\u001b[0m\u001b[1;33m:\u001b[0m\u001b[1;33m\u001b[0m\u001b[1;33m\u001b[0m\u001b[0m\n\u001b[0;32m   3026\u001b[0m             \u001b[1;32mraise\u001b[0m \u001b[0mValueError\u001b[0m\u001b[1;33m(\u001b[0m\u001b[1;34m\"'explode' must be of length 'x'\"\u001b[0m\u001b[1;33m)\u001b[0m\u001b[1;33m\u001b[0m\u001b[1;33m\u001b[0m\u001b[0m\n",
      "\u001b[1;31mValueError\u001b[0m: 'label' must be of length 'x'"
     ]
    }
   ],
   "source": [
    "\n",
    "\n",
    "from matplotlib import pyplot as plt \n",
    "\n",
    "for geo in df_merge['Geo'].unique() :\n",
    "    df_r_type_country = df_merge[df_merge['Geo'] == geo]\n",
    "    r_grp_country = df_r_type_country.groupby(['r_type'])\n",
    "    sum_r_type = r_grp_country['TJ'].agg(['sum'])\n",
    "    sum_r_type['percent'] = (sum_r_type['sum'] / sum_r_type['sum'].sum()) * 100\n",
    "    sum_r_type.head() \n",
    "    \n",
    "    \n",
    "    \n",
    "    pie = sum_r_type['sum']\n",
    "    labels = ['nonrenewable', 'renewable']\n",
    "\n",
    "    #plt.style.use(\"fivethirtyeight\")\n",
    "\n",
    "    plt.pie(pie, labels=labels, wedgeprops={'edgecolor':'black'})\n",
    "    plt.title(str(geo))\n",
    "    #plt.tight_layout()\n",
    "\n",
    "    #plt.savefig('worldwide_allsources_2018_pie')\n",
    "    #plt.show()"
   ]
  }
 ]
}