{
 "metadata": {
  "language_info": {
   "codemirror_mode": {
    "name": "ipython",
    "version": 3
   },
   "file_extension": ".py",
   "mimetype": "text/x-python",
   "name": "python",
   "nbconvert_exporter": "python",
   "pygments_lexer": "ipython3",
   "version": "3.8.5-final"
  },
  "orig_nbformat": 2,
  "kernelspec": {
   "name": "python3",
   "display_name": "Python 3.8.5 64-bit ('Rachel': virtualenv)",
   "metadata": {
    "interpreter": {
     "hash": "ccb7b26840b825c8924d4cfe054c3e169b8f58795accc090394d62bc14660e70"
    }
   }
  }
 },
 "nbformat": 4,
 "nbformat_minor": 2,
 "cells": [
  {
   "cell_type": "code",
   "execution_count": 2,
   "metadata": {},
   "outputs": [],
   "source": [
    "#combining all datasets using map function\n",
    "\n",
    "import glob\n",
    "import pandas as pd \n",
    "\n",
    "#map renewables\n",
    "\n",
    "df_renew = pd.concat(map(pd.read_csv, glob.glob('C:/Users/Rachel/OneDrive/Documents/Springboard/CAPSTONE 2/energy/raw_data_renewable/*.csv')))\n",
    "df_renew.rename(columns={'Country or Area':'Geo'}, inplace=True)\n",
    "\n",
    "#map nonrenewables\n",
    "\n",
    "df_nonrenew = pd.concat(map(pd.read_csv, glob.glob('C:/Users/Rachel/OneDrive/Documents/Springboard/CAPSTONE 2/energy/raw_data_nonrenewable/*.csv')))\n",
    "df_nonrenew.rename(columns={'Country or Area':'Geo'}, inplace=True)\n",
    "\n",
    "df = pd.concat([df_renew, df_nonrenew])\n",
    "\n",
    "#split commodity and transaction into two columns\n",
    "#defining column to split and which delimiter\n",
    "ct = df['Commodity - Transaction'].str.split('-')\n",
    "\n",
    "#assigning new columns\n",
    "df['Commodity'] = ct.str.get(0)\n",
    "df['Transaction'] = ct.str.get(1)\n",
    "\n",
    "#lowercase and remove trailing and leading spaces\n",
    "df['Commodity'] = df['Commodity'].str.lower()\n",
    "df['Commodity'] = df['Commodity'].str.strip()\n",
    "\n",
    "df['Transaction'] = df['Transaction'].str.lower()\n",
    "df['Transaction'] = df['Transaction'].str.strip()\n",
    "\n",
    "df = df[df['Transaction'] == 'production']\n"
   ]
  },
  {
   "cell_type": "code",
   "execution_count": 3,
   "metadata": {},
   "outputs": [
    {
     "output_type": "execute_result",
     "data": {
      "text/plain": [
       "                 Geo                 Commodity - Transaction    Year  \\\n",
       "72239          Qatar  Other oil products n.e.c. - Production  2005.0   \n",
       "59916  United States             Motor Gasoline - Production  2014.0   \n",
       "15380        Tunisia                   Fuelwood - Production  2016.0   \n",
       "\n",
       "                         Unit       Quantity  Quantity Footnotes  \\\n",
       "72239  Metric tons,  thousand     455.000000                 NaN   \n",
       "59916  Metric tons,  thousand  341919.000000                 NaN   \n",
       "15380  Cubic metres, thousand    4297.974822                 NaN   \n",
       "\n",
       "                       Commodity Transaction        Description  \\\n",
       "72239  other oil products n.e.c.  production                NaN   \n",
       "59916             motor gasoline  production                NaN   \n",
       "15380                   fuelwood  production  Wood used as fuel   \n",
       "\n",
       "                        Units  Conv_mt_to_tj        r_type            TJ  \n",
       "72239   Metric tons, thousand          40.20  nonrenewable  1.829100e+04  \n",
       "59916   Metric tons, thousand          44.30  nonrenewable  1.514701e+07  \n",
       "15380  Cubic meters, thousand           9.14     renewable  3.928349e+04  "
      ],
      "text/html": "<div>\n<style scoped>\n    .dataframe tbody tr th:only-of-type {\n        vertical-align: middle;\n    }\n\n    .dataframe tbody tr th {\n        vertical-align: top;\n    }\n\n    .dataframe thead th {\n        text-align: right;\n    }\n</style>\n<table border=\"1\" class=\"dataframe\">\n  <thead>\n    <tr style=\"text-align: right;\">\n      <th></th>\n      <th>Geo</th>\n      <th>Commodity - Transaction</th>\n      <th>Year</th>\n      <th>Unit</th>\n      <th>Quantity</th>\n      <th>Quantity Footnotes</th>\n      <th>Commodity</th>\n      <th>Transaction</th>\n      <th>Description</th>\n      <th>Units</th>\n      <th>Conv_mt_to_tj</th>\n      <th>r_type</th>\n      <th>TJ</th>\n    </tr>\n  </thead>\n  <tbody>\n    <tr>\n      <th>72239</th>\n      <td>Qatar</td>\n      <td>Other oil products n.e.c. - Production</td>\n      <td>2005.0</td>\n      <td>Metric tons,  thousand</td>\n      <td>455.000000</td>\n      <td>NaN</td>\n      <td>other oil products n.e.c.</td>\n      <td>production</td>\n      <td>NaN</td>\n      <td>Metric tons, thousand</td>\n      <td>40.20</td>\n      <td>nonrenewable</td>\n      <td>1.829100e+04</td>\n    </tr>\n    <tr>\n      <th>59916</th>\n      <td>United States</td>\n      <td>Motor Gasoline - Production</td>\n      <td>2014.0</td>\n      <td>Metric tons,  thousand</td>\n      <td>341919.000000</td>\n      <td>NaN</td>\n      <td>motor gasoline</td>\n      <td>production</td>\n      <td>NaN</td>\n      <td>Metric tons, thousand</td>\n      <td>44.30</td>\n      <td>nonrenewable</td>\n      <td>1.514701e+07</td>\n    </tr>\n    <tr>\n      <th>15380</th>\n      <td>Tunisia</td>\n      <td>Fuelwood - Production</td>\n      <td>2016.0</td>\n      <td>Cubic metres, thousand</td>\n      <td>4297.974822</td>\n      <td>NaN</td>\n      <td>fuelwood</td>\n      <td>production</td>\n      <td>Wood used as fuel</td>\n      <td>Cubic meters, thousand</td>\n      <td>9.14</td>\n      <td>renewable</td>\n      <td>3.928349e+04</td>\n    </tr>\n  </tbody>\n</table>\n</div>"
     },
     "metadata": {},
     "execution_count": 3
    }
   ],
   "source": [
    "import pandas as pd \n",
    "unit_conv = pd.read_csv('C:/Users/Rachel/OneDrive/Documents/Springboard/CAPSTONE 2/energy/renewable_energy_units_conv_2.csv')\n",
    "\n",
    "df_merge = pd.merge(df,  \n",
    "                     unit_conv,  \n",
    "                     on ='Commodity', \n",
    "                     how ='left') \n",
    "\n",
    "df_merge['TJ'] = df_merge['Quantity'] * df_merge['Conv_mt_to_tj']\n",
    "df_merge.sample(3)"
   ]
  },
  {
   "cell_type": "code",
   "execution_count": 4,
   "metadata": {},
   "outputs": [],
   "source": [
    "\n",
    "#sum all energy types, df_merge is the combination of unit conversion table and raw data to sum total TJ\n",
    "#filter by year\n",
    "lt_2018 = df_merge[df_merge['Year'] == 2018]\n",
    "#greate geo group\n",
    "tot_grp_country = lt_2018.groupby(['Geo'])\n",
    "#sum TJ by geo group\n",
    "df_tot_country = tot_grp_country['TJ'].agg(['sum'])\n",
    "\n",
    "#sum all renewables\n",
    "lt_2018_r = df_merge[(df_merge['Year'] == 2018) & (df_merge['r_type'] == 'renewable')]\n",
    "tot_r_grp_country = lt_2018_r.groupby(['Geo'])\n",
    "df_tot_country_r = tot_r_grp_country['TJ'].agg(['sum'])\n",
    "\n",
    "#sum all nonrenewables\n",
    "lt_2018_n = df_merge[(df_merge['Year'] == 2018) & (df_merge['r_type'] == 'nonrenewable')]\n",
    "tot_n_grp_country = lt_2018_n.groupby(['Geo'])\n",
    "df_tot_country_n = tot_n_grp_country['TJ'].agg(['sum'])"
   ]
  },
  {
   "cell_type": "code",
   "execution_count": 11,
   "metadata": {},
   "outputs": [],
   "source": [
    "#merge total, renewable, and nonrenewable dataframes\n",
    "\n",
    "countries_r = pd.merge(df_tot_country,  \n",
    "                     df_tot_country_r,  \n",
    "                     on ='Geo', \n",
    "                     how ='left') \n",
    "\n",
    "countries_r_n = pd.merge(countries_r,\n",
    "                    df_tot_country_n,\n",
    "                    on = 'Geo', \n",
    "                    how = 'left')\n",
    "\n",
    "countries_r_n.rename(columns={'sum_x':'total', 'sum_y': 'renew', 'sum' : 'nonrenew'}, inplace=True)\n",
    "countries_r_n['percent_renewable'] = (countries_r_n['renew'] / (countries_r_n['renew'] + countries_r_n['nonrenew'])) * 100\n",
    "countries_r_n.sort_values(by='percent_renewable', ascending=False, inplace=True)\n",
    "#allsources_r_n['diff'] = allsources_r_n['renew'] + allsources_r_n['nonrenew']#\n",
    "\n",
    "countries_r_n.head()\n",
    "# countries_r_n.to_csv('C:/Users/Rachel/OneDrive/Documents/Springboard/CAPSTONE 2/energy/gdp/perc_renewable_by_country.csv')"
   ]
  },
  {
   "cell_type": "code",
   "execution_count": 6,
   "metadata": {
    "tags": []
   },
   "outputs": [],
   "source": [
    "#to get the breakdown of types for the top 10 'natural' group\n",
    "\n",
    "#sum all energy types, df_merge is the combination of unit conversion table and raw data to sum total TJ\n",
    "#filter by year\n",
    "for geo in df_merge['Geo'].unique() : \n",
    "    country_types = df_merge[(df_merge['Year'] == 2018) & (df_merge['Geo'] == geo) & (df_merge['r_type'] == 'renewable')]\n",
    "    #greate geo group\n",
    "    country_type_grp = country_types.groupby(['Commodity'])\n",
    "    #sum TJ by geo group\n",
    "    country_types = country_type_grp['TJ'].agg(['sum'])\n",
    "    country_types.sort_values(by='sum', ascending=False, inplace=True)\n",
    "    country_types.head(20)\n",
    "\n",
    "\n",
    "    #comment out unless you want to export 200+ csv files:\n",
    "    #country_types.to_csv('C:/Users/Rachel/OneDrive/Documents/Springboard/CAPSTONE 2/energy/renewable_types_by_country/' + geo + '.csv')"
   ]
  },
  {
   "cell_type": "code",
   "execution_count": 7,
   "metadata": {},
   "outputs": [],
   "source": [
    "#export results to csv for tableau viz, keep commented out\n",
    "\n",
    "#countries_r_n.to_csv('countries_percent_renewable_2013.csv')"
   ]
  }
 ]
}