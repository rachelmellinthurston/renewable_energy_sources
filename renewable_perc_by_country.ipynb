{
 "metadata": {
  "language_info": {
   "codemirror_mode": {
    "name": "ipython",
    "version": 3
   },
   "file_extension": ".py",
   "mimetype": "text/x-python",
   "name": "python",
   "nbconvert_exporter": "python",
   "pygments_lexer": "ipython3",
   "version": "3.8.5-final"
  },
  "orig_nbformat": 2,
  "kernelspec": {
   "name": "python3",
   "display_name": "Python 3.8.5 64-bit (conda)",
   "metadata": {
    "interpreter": {
     "hash": "ccb7b26840b825c8924d4cfe054c3e169b8f58795accc090394d62bc14660e70"
    }
   }
  }
 },
 "nbformat": 4,
 "nbformat_minor": 2,
 "cells": [
  {
   "cell_type": "code",
   "execution_count": 172,
   "metadata": {},
   "outputs": [],
   "source": [
    "#combining all datasets using map function\n",
    "\n",
    "import glob\n",
    "import pandas as pd \n",
    "\n",
    "#map renewables\n",
    "\n",
    "df_renew = pd.concat(map(pd.read_csv, glob.glob('C:/Users/Rachel/OneDrive/Documents/Springboard/CAPSTONE 2/energy/raw_data_renewable/*.csv')))\n",
    "df_renew.rename(columns={'Country or Area':'Geo'}, inplace=True)\n",
    "\n",
    "#map nonrenewables\n",
    "\n",
    "df_nonrenew = pd.concat(map(pd.read_csv, glob.glob('C:/Users/Rachel/OneDrive/Documents/Springboard/CAPSTONE 2/energy/raw_data_nonrenewable/*.csv')))\n",
    "df_nonrenew.rename(columns={'Country or Area':'Geo'}, inplace=True)\n",
    "\n",
    "df = pd.concat([df_renew, df_nonrenew])\n",
    "\n",
    "#split commodity and transaction into two columns\n",
    "#defining column to split and which delimiter\n",
    "ct = df['Commodity - Transaction'].str.split('-')\n",
    "\n",
    "#assigning new columns\n",
    "df['Commodity'] = ct.str.get(0)\n",
    "df['Transaction'] = ct.str.get(1)\n",
    "\n",
    "#lowercase and remove trailing and leading spaces\n",
    "df['Commodity'] = df['Commodity'].str.lower()\n",
    "df['Commodity'] = df['Commodity'].str.strip()\n",
    "\n",
    "df['Transaction'] = df['Transaction'].str.lower()\n",
    "df['Transaction'] = df['Transaction'].str.strip()\n",
    "\n",
    "df = df[df['Transaction'] == 'production']\n"
   ]
  },
  {
   "cell_type": "code",
   "execution_count": 173,
   "metadata": {},
   "outputs": [
    {
     "output_type": "execute_result",
     "data": {
      "text/plain": [
       "               Geo            Commodity - Transaction    Year  \\\n",
       "5749         Spain          Black Liquor - Production  1996.0   \n",
       "18509  New Zealand  Geothermal Electricity-production  2002.0   \n",
       "30688       Sweden       Solar Electricity-Production  2017.0   \n",
       "\n",
       "                          Unit  Quantity  Quantity Footnotes  \\\n",
       "5749                Terajoules   26253.0                 NaN   \n",
       "18509  Kilowatt-hours, million    2814.0                 NaN   \n",
       "30688  Kilowatt-hours, million     230.0                 NaN   \n",
       "\n",
       "                    Commodity Transaction Description  \\\n",
       "5749             black liquor  production         NaN   \n",
       "18509  geothermal electricity  production         NaN   \n",
       "30688       solar electricity  production         NaN   \n",
       "\n",
       "                         Units  Conv_mt_to_tj     r_type        TJ  \n",
       "5749                Terajoules           1.00  renewable  26253.00  \n",
       "18509  Kilowatt-hours, million           3.57  renewable  10045.98  \n",
       "30688  Kilowatt-hours, million           3.57  renewable    821.10  "
      ],
      "text/html": "<div>\n<style scoped>\n    .dataframe tbody tr th:only-of-type {\n        vertical-align: middle;\n    }\n\n    .dataframe tbody tr th {\n        vertical-align: top;\n    }\n\n    .dataframe thead th {\n        text-align: right;\n    }\n</style>\n<table border=\"1\" class=\"dataframe\">\n  <thead>\n    <tr style=\"text-align: right;\">\n      <th></th>\n      <th>Geo</th>\n      <th>Commodity - Transaction</th>\n      <th>Year</th>\n      <th>Unit</th>\n      <th>Quantity</th>\n      <th>Quantity Footnotes</th>\n      <th>Commodity</th>\n      <th>Transaction</th>\n      <th>Description</th>\n      <th>Units</th>\n      <th>Conv_mt_to_tj</th>\n      <th>r_type</th>\n      <th>TJ</th>\n    </tr>\n  </thead>\n  <tbody>\n    <tr>\n      <th>5749</th>\n      <td>Spain</td>\n      <td>Black Liquor - Production</td>\n      <td>1996.0</td>\n      <td>Terajoules</td>\n      <td>26253.0</td>\n      <td>NaN</td>\n      <td>black liquor</td>\n      <td>production</td>\n      <td>NaN</td>\n      <td>Terajoules</td>\n      <td>1.00</td>\n      <td>renewable</td>\n      <td>26253.00</td>\n    </tr>\n    <tr>\n      <th>18509</th>\n      <td>New Zealand</td>\n      <td>Geothermal Electricity-production</td>\n      <td>2002.0</td>\n      <td>Kilowatt-hours, million</td>\n      <td>2814.0</td>\n      <td>NaN</td>\n      <td>geothermal electricity</td>\n      <td>production</td>\n      <td>NaN</td>\n      <td>Kilowatt-hours, million</td>\n      <td>3.57</td>\n      <td>renewable</td>\n      <td>10045.98</td>\n    </tr>\n    <tr>\n      <th>30688</th>\n      <td>Sweden</td>\n      <td>Solar Electricity-Production</td>\n      <td>2017.0</td>\n      <td>Kilowatt-hours, million</td>\n      <td>230.0</td>\n      <td>NaN</td>\n      <td>solar electricity</td>\n      <td>production</td>\n      <td>NaN</td>\n      <td>Kilowatt-hours, million</td>\n      <td>3.57</td>\n      <td>renewable</td>\n      <td>821.10</td>\n    </tr>\n  </tbody>\n</table>\n</div>"
     },
     "metadata": {},
     "execution_count": 173
    }
   ],
   "source": [
    "import pandas as pd \n",
    "unit_conv = pd.read_csv('C:/Users/Rachel/OneDrive/Documents/Springboard/CAPSTONE 2/energy/renewable_energy_units_conv_2.csv')\n",
    "\n",
    "df_merge = pd.merge(df,  \n",
    "                     unit_conv,  \n",
    "                     on ='Commodity', \n",
    "                     how ='left') \n",
    "\n",
    "df_merge['TJ'] = df_merge['Quantity'] * df_merge['Conv_mt_to_tj']\n",
    "df_merge.sample(3)"
   ]
  },
  {
   "cell_type": "code",
   "execution_count": 174,
   "metadata": {},
   "outputs": [],
   "source": [
    "\n",
    "#sum all energy types, df_merge is the combination of unit conversion table and raw data to sum total TJ\n",
    "#filter by year\n",
    "lt_2018 = df_merge[df_merge['Year'] == 2018]\n",
    "#greate geo group\n",
    "tot_grp_country = lt_2018.groupby(['Geo'])\n",
    "#sum TJ by geo group\n",
    "df_tot_country = tot_grp_country['TJ'].agg(['sum'])\n",
    "\n",
    "#sum all renewables\n",
    "lt_2018_r = df_merge[(df_merge['Year'] == 2018) & (df_merge['r_type'] == 'renewable')]\n",
    "tot_r_grp_country = lt_2018_r.groupby(['Geo'])\n",
    "df_tot_country_r = tot_r_grp_country['TJ'].agg(['sum'])\n",
    "\n",
    "#sum all nonrenewables\n",
    "lt_2018_n = df_merge[(df_merge['Year'] == 2018) & (df_merge['r_type'] == 'nonrenewable')]\n",
    "tot_n_grp_country = lt_2018_n.groupby(['Geo'])\n",
    "df_tot_country_n = tot_n_grp_country['TJ'].agg(['sum'])"
   ]
  },
  {
   "cell_type": "code",
   "execution_count": 175,
   "metadata": {},
   "outputs": [
    {
     "output_type": "execute_result",
     "data": {
      "text/plain": [
       "                               total         renew   nonrenew  \\\n",
       "Geo                                                             \n",
       "Mauritania              2.736788e+04  2.736788e+04     0.0000   \n",
       "Guinea                  1.297902e+05  1.297870e+05     3.2400   \n",
       "Ethiopia                1.530337e+06  1.530257e+06    79.6000   \n",
       "Nepal                   4.470420e+05  4.460470e+05   995.0000   \n",
       "New Caledonia           1.601628e+03  1.596148e+03     5.4800   \n",
       "Slovenia                1.356360e+05  1.350212e+05   614.8000   \n",
       "Lao People's Dem. Rep.  5.890988e+05  5.854094e+05  3689.4000   \n",
       "Rwanda                  1.052503e+05  1.045564e+05   693.9000   \n",
       "Malawi                  8.704760e+04  8.576397e+04  1283.6274   \n",
       "Republic of Moldova     3.862059e+04  3.800500e+04   615.5900   \n",
       "\n",
       "                        percent_renewable  \n",
       "Geo                                        \n",
       "Mauritania                     100.000000  \n",
       "Guinea                          99.997504  \n",
       "Ethiopia                        99.994799  \n",
       "Nepal                           99.777426  \n",
       "New Caledonia                   99.657848  \n",
       "Slovenia                        99.546728  \n",
       "Lao People's Dem. Rep.          99.373721  \n",
       "Rwanda                          99.340714  \n",
       "Malawi                          98.525373  \n",
       "Republic of Moldova             98.406057  "
      ],
      "text/html": "<div>\n<style scoped>\n    .dataframe tbody tr th:only-of-type {\n        vertical-align: middle;\n    }\n\n    .dataframe tbody tr th {\n        vertical-align: top;\n    }\n\n    .dataframe thead th {\n        text-align: right;\n    }\n</style>\n<table border=\"1\" class=\"dataframe\">\n  <thead>\n    <tr style=\"text-align: right;\">\n      <th></th>\n      <th>total</th>\n      <th>renew</th>\n      <th>nonrenew</th>\n      <th>percent_renewable</th>\n    </tr>\n    <tr>\n      <th>Geo</th>\n      <th></th>\n      <th></th>\n      <th></th>\n      <th></th>\n    </tr>\n  </thead>\n  <tbody>\n    <tr>\n      <th>Mauritania</th>\n      <td>2.736788e+04</td>\n      <td>2.736788e+04</td>\n      <td>0.0000</td>\n      <td>100.000000</td>\n    </tr>\n    <tr>\n      <th>Guinea</th>\n      <td>1.297902e+05</td>\n      <td>1.297870e+05</td>\n      <td>3.2400</td>\n      <td>99.997504</td>\n    </tr>\n    <tr>\n      <th>Ethiopia</th>\n      <td>1.530337e+06</td>\n      <td>1.530257e+06</td>\n      <td>79.6000</td>\n      <td>99.994799</td>\n    </tr>\n    <tr>\n      <th>Nepal</th>\n      <td>4.470420e+05</td>\n      <td>4.460470e+05</td>\n      <td>995.0000</td>\n      <td>99.777426</td>\n    </tr>\n    <tr>\n      <th>New Caledonia</th>\n      <td>1.601628e+03</td>\n      <td>1.596148e+03</td>\n      <td>5.4800</td>\n      <td>99.657848</td>\n    </tr>\n    <tr>\n      <th>Slovenia</th>\n      <td>1.356360e+05</td>\n      <td>1.350212e+05</td>\n      <td>614.8000</td>\n      <td>99.546728</td>\n    </tr>\n    <tr>\n      <th>Lao People's Dem. Rep.</th>\n      <td>5.890988e+05</td>\n      <td>5.854094e+05</td>\n      <td>3689.4000</td>\n      <td>99.373721</td>\n    </tr>\n    <tr>\n      <th>Rwanda</th>\n      <td>1.052503e+05</td>\n      <td>1.045564e+05</td>\n      <td>693.9000</td>\n      <td>99.340714</td>\n    </tr>\n    <tr>\n      <th>Malawi</th>\n      <td>8.704760e+04</td>\n      <td>8.576397e+04</td>\n      <td>1283.6274</td>\n      <td>98.525373</td>\n    </tr>\n    <tr>\n      <th>Republic of Moldova</th>\n      <td>3.862059e+04</td>\n      <td>3.800500e+04</td>\n      <td>615.5900</td>\n      <td>98.406057</td>\n    </tr>\n  </tbody>\n</table>\n</div>"
     },
     "metadata": {},
     "execution_count": 175
    }
   ],
   "source": [
    "#merge total, renewable, and nonrenewable dataframes\n",
    "\n",
    "countries_r = pd.merge(df_tot_country,  \n",
    "                     df_tot_country_r,  \n",
    "                     on ='Geo', \n",
    "                     how ='left') \n",
    "\n",
    "countries_r_n = pd.merge(countries_r,\n",
    "                    df_tot_country_n,\n",
    "                    on = 'Geo', \n",
    "                    how = 'left')\n",
    "\n",
    "countries_r_n.rename(columns={'sum_x':'total', 'sum_y': 'renew', 'sum' : 'nonrenew'}, inplace=True)\n",
    "countries_r_n['percent_renewable'] = (countries_r_n['renew'] / (countries_r_n['renew'] + countries_r_n['nonrenew'])) * 100\n",
    "countries_r_n.sort_values(by='percent_renewable', ascending=False, inplace=True)\n",
    "#allsources_r_n['diff'] = allsources_r_n['renew'] + allsources_r_n['nonrenew']#\n",
    "\n",
    "countries_r_n.head(10)"
   ]
  },
  {
   "cell_type": "code",
   "execution_count": 187,
   "metadata": {
    "tags": []
   },
   "outputs": [],
   "source": [
    "#to get the breakdown of types for the top 10 'natural' group\n",
    "\n",
    "#sum all energy types, df_merge is the combination of unit conversion table and raw data to sum total TJ\n",
    "#filter by year\n",
    "for geo in df_merge['Geo'].unique() : \n",
    "    country_types = df_merge[(df_merge['Year'] == 2018) & (df_merge['Geo'] == geo) & (df_merge['r_type'] == 'renewable')]\n",
    "    #greate geo group\n",
    "    country_type_grp = country_types.groupby(['Commodity'])\n",
    "    #sum TJ by geo group\n",
    "    country_types = country_type_grp['TJ'].agg(['sum'])\n",
    "    country_types.sort_values(by='sum', ascending=False, inplace=True)\n",
    "    country_types.head(20)\n",
    "\n",
    "\n",
    "    #comment out unless you want to export 200+ csv files:\n",
    "    #country_types.to_csv('C:/Users/Rachel/OneDrive/Documents/Springboard/CAPSTONE 2/energy/renewable_types_by_country/' + geo + '.csv')"
   ]
  },
  {
   "cell_type": "code",
   "execution_count": 177,
   "metadata": {},
   "outputs": [],
   "source": [
    "#export results to csv for tableau viz, keep commented out\n",
    "\n",
    "#countries_r_n.to_csv('countries_percent_renewable_2013.csv')"
   ]
  },
  {
   "cell_type": "code",
   "execution_count": 178,
   "metadata": {},
   "outputs": [
    {
     "output_type": "error",
     "ename": "ValueError",
     "evalue": "'label' must be of length 'x'",
     "traceback": [
      "\u001b[1;31m---------------------------------------------------------------------------\u001b[0m",
      "\u001b[1;31mValueError\u001b[0m                                Traceback (most recent call last)",
      "\u001b[1;32m<ipython-input-178-ec42269348ad>\u001b[0m in \u001b[0;36m<module>\u001b[1;34m\u001b[0m\n\u001b[0;32m     15\u001b[0m     \u001b[1;31m#plt.style.use(\"fivethirtyeight\")\u001b[0m\u001b[1;33m\u001b[0m\u001b[1;33m\u001b[0m\u001b[1;33m\u001b[0m\u001b[0m\n\u001b[0;32m     16\u001b[0m \u001b[1;33m\u001b[0m\u001b[0m\n\u001b[1;32m---> 17\u001b[1;33m     \u001b[0mplt\u001b[0m\u001b[1;33m.\u001b[0m\u001b[0mpie\u001b[0m\u001b[1;33m(\u001b[0m\u001b[0mpie\u001b[0m\u001b[1;33m,\u001b[0m \u001b[0mlabels\u001b[0m\u001b[1;33m=\u001b[0m\u001b[0mlabels\u001b[0m\u001b[1;33m,\u001b[0m \u001b[0mwedgeprops\u001b[0m\u001b[1;33m=\u001b[0m\u001b[1;33m{\u001b[0m\u001b[1;34m'edgecolor'\u001b[0m\u001b[1;33m:\u001b[0m\u001b[1;34m'black'\u001b[0m\u001b[1;33m}\u001b[0m\u001b[1;33m)\u001b[0m\u001b[1;33m\u001b[0m\u001b[1;33m\u001b[0m\u001b[0m\n\u001b[0m\u001b[0;32m     18\u001b[0m     \u001b[0mplt\u001b[0m\u001b[1;33m.\u001b[0m\u001b[0mtitle\u001b[0m\u001b[1;33m(\u001b[0m\u001b[0mstr\u001b[0m\u001b[1;33m(\u001b[0m\u001b[0mgeo\u001b[0m\u001b[1;33m)\u001b[0m\u001b[1;33m)\u001b[0m\u001b[1;33m\u001b[0m\u001b[1;33m\u001b[0m\u001b[0m\n\u001b[0;32m     19\u001b[0m     \u001b[1;31m#plt.tight_layout()\u001b[0m\u001b[1;33m\u001b[0m\u001b[1;33m\u001b[0m\u001b[1;33m\u001b[0m\u001b[0m\n",
      "\u001b[1;32m~\\anaconda3\\lib\\site-packages\\matplotlib\\pyplot.py\u001b[0m in \u001b[0;36mpie\u001b[1;34m(x, explode, labels, colors, autopct, pctdistance, shadow, labeldistance, startangle, radius, counterclock, wedgeprops, textprops, center, frame, rotatelabels, normalize, data)\u001b[0m\n\u001b[0;32m   2825\u001b[0m         \u001b[0mtextprops\u001b[0m\u001b[1;33m=\u001b[0m\u001b[1;32mNone\u001b[0m\u001b[1;33m,\u001b[0m \u001b[0mcenter\u001b[0m\u001b[1;33m=\u001b[0m\u001b[1;33m(\u001b[0m\u001b[1;36m0\u001b[0m\u001b[1;33m,\u001b[0m \u001b[1;36m0\u001b[0m\u001b[1;33m)\u001b[0m\u001b[1;33m,\u001b[0m \u001b[0mframe\u001b[0m\u001b[1;33m=\u001b[0m\u001b[1;32mFalse\u001b[0m\u001b[1;33m,\u001b[0m\u001b[1;33m\u001b[0m\u001b[1;33m\u001b[0m\u001b[0m\n\u001b[0;32m   2826\u001b[0m         rotatelabels=False, *, normalize=None, data=None):\n\u001b[1;32m-> 2827\u001b[1;33m     return gca().pie(\n\u001b[0m\u001b[0;32m   2828\u001b[0m         \u001b[0mx\u001b[0m\u001b[1;33m,\u001b[0m \u001b[0mexplode\u001b[0m\u001b[1;33m=\u001b[0m\u001b[0mexplode\u001b[0m\u001b[1;33m,\u001b[0m \u001b[0mlabels\u001b[0m\u001b[1;33m=\u001b[0m\u001b[0mlabels\u001b[0m\u001b[1;33m,\u001b[0m \u001b[0mcolors\u001b[0m\u001b[1;33m=\u001b[0m\u001b[0mcolors\u001b[0m\u001b[1;33m,\u001b[0m\u001b[1;33m\u001b[0m\u001b[1;33m\u001b[0m\u001b[0m\n\u001b[0;32m   2829\u001b[0m         \u001b[0mautopct\u001b[0m\u001b[1;33m=\u001b[0m\u001b[0mautopct\u001b[0m\u001b[1;33m,\u001b[0m \u001b[0mpctdistance\u001b[0m\u001b[1;33m=\u001b[0m\u001b[0mpctdistance\u001b[0m\u001b[1;33m,\u001b[0m \u001b[0mshadow\u001b[0m\u001b[1;33m=\u001b[0m\u001b[0mshadow\u001b[0m\u001b[1;33m,\u001b[0m\u001b[1;33m\u001b[0m\u001b[1;33m\u001b[0m\u001b[0m\n",
      "\u001b[1;32m~\\anaconda3\\lib\\site-packages\\matplotlib\\__init__.py\u001b[0m in \u001b[0;36minner\u001b[1;34m(ax, data, *args, **kwargs)\u001b[0m\n\u001b[0;32m   1436\u001b[0m     \u001b[1;32mdef\u001b[0m \u001b[0minner\u001b[0m\u001b[1;33m(\u001b[0m\u001b[0max\u001b[0m\u001b[1;33m,\u001b[0m \u001b[1;33m*\u001b[0m\u001b[0margs\u001b[0m\u001b[1;33m,\u001b[0m \u001b[0mdata\u001b[0m\u001b[1;33m=\u001b[0m\u001b[1;32mNone\u001b[0m\u001b[1;33m,\u001b[0m \u001b[1;33m**\u001b[0m\u001b[0mkwargs\u001b[0m\u001b[1;33m)\u001b[0m\u001b[1;33m:\u001b[0m\u001b[1;33m\u001b[0m\u001b[1;33m\u001b[0m\u001b[0m\n\u001b[0;32m   1437\u001b[0m         \u001b[1;32mif\u001b[0m \u001b[0mdata\u001b[0m \u001b[1;32mis\u001b[0m \u001b[1;32mNone\u001b[0m\u001b[1;33m:\u001b[0m\u001b[1;33m\u001b[0m\u001b[1;33m\u001b[0m\u001b[0m\n\u001b[1;32m-> 1438\u001b[1;33m             \u001b[1;32mreturn\u001b[0m \u001b[0mfunc\u001b[0m\u001b[1;33m(\u001b[0m\u001b[0max\u001b[0m\u001b[1;33m,\u001b[0m \u001b[1;33m*\u001b[0m\u001b[0mmap\u001b[0m\u001b[1;33m(\u001b[0m\u001b[0msanitize_sequence\u001b[0m\u001b[1;33m,\u001b[0m \u001b[0margs\u001b[0m\u001b[1;33m)\u001b[0m\u001b[1;33m,\u001b[0m \u001b[1;33m**\u001b[0m\u001b[0mkwargs\u001b[0m\u001b[1;33m)\u001b[0m\u001b[1;33m\u001b[0m\u001b[1;33m\u001b[0m\u001b[0m\n\u001b[0m\u001b[0;32m   1439\u001b[0m \u001b[1;33m\u001b[0m\u001b[0m\n\u001b[0;32m   1440\u001b[0m         \u001b[0mbound\u001b[0m \u001b[1;33m=\u001b[0m \u001b[0mnew_sig\u001b[0m\u001b[1;33m.\u001b[0m\u001b[0mbind\u001b[0m\u001b[1;33m(\u001b[0m\u001b[0max\u001b[0m\u001b[1;33m,\u001b[0m \u001b[1;33m*\u001b[0m\u001b[0margs\u001b[0m\u001b[1;33m,\u001b[0m \u001b[1;33m**\u001b[0m\u001b[0mkwargs\u001b[0m\u001b[1;33m)\u001b[0m\u001b[1;33m\u001b[0m\u001b[1;33m\u001b[0m\u001b[0m\n",
      "\u001b[1;32m~\\anaconda3\\lib\\site-packages\\matplotlib\\axes\\_axes.py\u001b[0m in \u001b[0;36mpie\u001b[1;34m(self, x, explode, labels, colors, autopct, pctdistance, shadow, labeldistance, startangle, radius, counterclock, wedgeprops, textprops, center, frame, rotatelabels, normalize)\u001b[0m\n\u001b[0;32m   3022\u001b[0m             \u001b[0mexplode\u001b[0m \u001b[1;33m=\u001b[0m \u001b[1;33m[\u001b[0m\u001b[1;36m0\u001b[0m\u001b[1;33m]\u001b[0m \u001b[1;33m*\u001b[0m \u001b[0mlen\u001b[0m\u001b[1;33m(\u001b[0m\u001b[0mx\u001b[0m\u001b[1;33m)\u001b[0m\u001b[1;33m\u001b[0m\u001b[1;33m\u001b[0m\u001b[0m\n\u001b[0;32m   3023\u001b[0m         \u001b[1;32mif\u001b[0m \u001b[0mlen\u001b[0m\u001b[1;33m(\u001b[0m\u001b[0mx\u001b[0m\u001b[1;33m)\u001b[0m \u001b[1;33m!=\u001b[0m \u001b[0mlen\u001b[0m\u001b[1;33m(\u001b[0m\u001b[0mlabels\u001b[0m\u001b[1;33m)\u001b[0m\u001b[1;33m:\u001b[0m\u001b[1;33m\u001b[0m\u001b[1;33m\u001b[0m\u001b[0m\n\u001b[1;32m-> 3024\u001b[1;33m             \u001b[1;32mraise\u001b[0m \u001b[0mValueError\u001b[0m\u001b[1;33m(\u001b[0m\u001b[1;34m\"'label' must be of length 'x'\"\u001b[0m\u001b[1;33m)\u001b[0m\u001b[1;33m\u001b[0m\u001b[1;33m\u001b[0m\u001b[0m\n\u001b[0m\u001b[0;32m   3025\u001b[0m         \u001b[1;32mif\u001b[0m \u001b[0mlen\u001b[0m\u001b[1;33m(\u001b[0m\u001b[0mx\u001b[0m\u001b[1;33m)\u001b[0m \u001b[1;33m!=\u001b[0m \u001b[0mlen\u001b[0m\u001b[1;33m(\u001b[0m\u001b[0mexplode\u001b[0m\u001b[1;33m)\u001b[0m\u001b[1;33m:\u001b[0m\u001b[1;33m\u001b[0m\u001b[1;33m\u001b[0m\u001b[0m\n\u001b[0;32m   3026\u001b[0m             \u001b[1;32mraise\u001b[0m \u001b[0mValueError\u001b[0m\u001b[1;33m(\u001b[0m\u001b[1;34m\"'explode' must be of length 'x'\"\u001b[0m\u001b[1;33m)\u001b[0m\u001b[1;33m\u001b[0m\u001b[1;33m\u001b[0m\u001b[0m\n",
      "\u001b[1;31mValueError\u001b[0m: 'label' must be of length 'x'"
     ]
    }
   ],
   "source": [
    "\n",
    "\n",
    "from matplotlib import pyplot as plt \n",
    "\n",
    "for geo in df_merge['Geo'].unique() :\n",
    "    df_r_type_country = df_merge[df_merge['Geo'] == geo]\n",
    "    r_grp_country = df_r_type_country.groupby(['r_type'])\n",
    "    sum_r_type = r_grp_country['TJ'].agg(['sum'])\n",
    "    sum_r_type['percent'] = (sum_r_type['sum'] / sum_r_type['sum'].sum()) * 100\n",
    "    sum_r_type.head() \n",
    "    \n",
    "    \n",
    "    \n",
    "    pie = sum_r_type['sum']\n",
    "    labels = ['nonrenewable', 'renewable']\n",
    "\n",
    "    #plt.style.use(\"fivethirtyeight\")\n",
    "\n",
    "    plt.pie(pie, labels=labels, wedgeprops={'edgecolor':'black'})\n",
    "    plt.title(str(geo))\n",
    "    #plt.tight_layout()\n",
    "\n",
    "    #plt.savefig('worldwide_allsources_2018_pie')\n",
    "    #plt.show()"
   ]
  }
 ]
}