{
 "metadata": {
  "language_info": {
   "codemirror_mode": {
    "name": "ipython",
    "version": 3
   },
   "file_extension": ".py",
   "mimetype": "text/x-python",
   "name": "python",
   "nbconvert_exporter": "python",
   "pygments_lexer": "ipython3",
   "version": "3.8.5-final"
  },
  "orig_nbformat": 2,
  "kernelspec": {
   "name": "python3",
   "display_name": "Python 3.8.5 64-bit (conda)",
   "metadata": {
    "interpreter": {
     "hash": "ccb7b26840b825c8924d4cfe054c3e169b8f58795accc090394d62bc14660e70"
    }
   }
  }
 },
 "nbformat": 4,
 "nbformat_minor": 2,
 "cells": [
  {
   "cell_type": "code",
   "execution_count": 109,
   "metadata": {},
   "outputs": [],
   "source": [
    "#combining all datasets using map function\n",
    "\n",
    "import glob\n",
    "import pandas as pd \n",
    "\n",
    "#map renewables\n",
    "\n",
    "df_renew = pd.concat(map(pd.read_csv, glob.glob('C:/Users/Rachel/OneDrive/Documents/Springboard/CAPSTONE 2/energy/raw_data_renewable/*.csv')))\n",
    "df_renew.rename(columns={'Country or Area':'Geo'}, inplace=True)\n",
    "\n",
    "#map nonrenewables\n",
    "\n",
    "df_nonrenew = pd.concat(map(pd.read_csv, glob.glob('C:/Users/Rachel/OneDrive/Documents/Springboard/CAPSTONE 2/energy/raw_data_nonrenewable/*.csv')))\n",
    "df_nonrenew.rename(columns={'Country or Area':'Geo'}, inplace=True)\n",
    "\n",
    "df = pd.concat([df_renew, df_nonrenew])\n",
    "\n",
    "#split commodity and transaction into two columns\n",
    "#defining column to split and which delimiter\n",
    "ct = df['Commodity - Transaction'].str.split('-')\n",
    "\n",
    "#assigning new columns\n",
    "df['Commodity'] = ct.str.get(0)\n",
    "df['Transaction'] = ct.str.get(1)\n",
    "\n",
    "#lowercase and remove trailing and leading spaces\n",
    "df['Commodity'] = df['Commodity'].str.lower()\n",
    "df['Commodity'] = df['Commodity'].str.strip()\n",
    "\n",
    "df['Transaction'] = df['Transaction'].str.lower()\n",
    "df['Transaction'] = df['Transaction'].str.strip()\n",
    "\n",
    "df = df[df['Transaction'] == 'production']\n",
    "df.fillna(value=1, method=None, axis=None, inplace=True, limit=None, downcast=None)\n"
   ]
  },
  {
   "cell_type": "code",
   "execution_count": 110,
   "metadata": {},
   "outputs": [
    {
     "output_type": "execute_result",
     "data": {
      "text/plain": [
       "Empty DataFrame\n",
       "Columns: [Geo, Commodity - Transaction, Year, Unit, Quantity, Quantity Footnotes, Commodity, Transaction]\n",
       "Index: []"
      ],
      "text/html": "<div>\n<style scoped>\n    .dataframe tbody tr th:only-of-type {\n        vertical-align: middle;\n    }\n\n    .dataframe tbody tr th {\n        vertical-align: top;\n    }\n\n    .dataframe thead th {\n        text-align: right;\n    }\n</style>\n<table border=\"1\" class=\"dataframe\">\n  <thead>\n    <tr style=\"text-align: right;\">\n      <th></th>\n      <th>Geo</th>\n      <th>Commodity - Transaction</th>\n      <th>Year</th>\n      <th>Unit</th>\n      <th>Quantity</th>\n      <th>Quantity Footnotes</th>\n      <th>Commodity</th>\n      <th>Transaction</th>\n    </tr>\n  </thead>\n  <tbody>\n  </tbody>\n</table>\n</div>"
     },
     "metadata": {},
     "execution_count": 110
    }
   ],
   "source": [
    "df_filt = df[df['Geo'] == 'Monaco']\n",
    "\n",
    "df_filt"
   ]
  },
  {
   "cell_type": "code",
   "execution_count": 111,
   "metadata": {},
   "outputs": [
    {
     "output_type": "execute_result",
     "data": {
      "text/plain": [
       "                            Geo                     Commodity - Transaction  \\\n",
       "17391                   Croatia                Hydro electricity-production   \n",
       "42921            United Kingdom                         Ethane - Production   \n",
       "52171  Bolivia (Plur. State of)  Liquefied petroleum gas (LPG) - Production   \n",
       "\n",
       "         Year                     Unit  Quantity  Quantity Footnotes  \\\n",
       "17391  2015.0  Kilowatt-hours, million    6556.0                 1.0   \n",
       "42921  2011.0   Metric tons,  thousand     834.0                 1.0   \n",
       "52171  1990.0   Metric tons,  thousand     194.0                 1.0   \n",
       "\n",
       "                           Commodity Transaction                Description  \\\n",
       "17391              hydro electricity  production                        NaN   \n",
       "42921                         ethane  production  Isolated from Natural Gas   \n",
       "52171  liquefied petroleum gas (lpg)  production                        NaN   \n",
       "\n",
       "                         Units  Conv_mt_to_tj        r_type        TJ  \n",
       "17391  Kilowatt-hours, million           3.57     renewable  23404.92  \n",
       "42921    Metric tons, thousand          46.40  nonrenewable  38697.60  \n",
       "52171    Metric tons, thousand          47.30  nonrenewable   9176.20  "
      ],
      "text/html": "<div>\n<style scoped>\n    .dataframe tbody tr th:only-of-type {\n        vertical-align: middle;\n    }\n\n    .dataframe tbody tr th {\n        vertical-align: top;\n    }\n\n    .dataframe thead th {\n        text-align: right;\n    }\n</style>\n<table border=\"1\" class=\"dataframe\">\n  <thead>\n    <tr style=\"text-align: right;\">\n      <th></th>\n      <th>Geo</th>\n      <th>Commodity - Transaction</th>\n      <th>Year</th>\n      <th>Unit</th>\n      <th>Quantity</th>\n      <th>Quantity Footnotes</th>\n      <th>Commodity</th>\n      <th>Transaction</th>\n      <th>Description</th>\n      <th>Units</th>\n      <th>Conv_mt_to_tj</th>\n      <th>r_type</th>\n      <th>TJ</th>\n    </tr>\n  </thead>\n  <tbody>\n    <tr>\n      <th>17391</th>\n      <td>Croatia</td>\n      <td>Hydro electricity-production</td>\n      <td>2015.0</td>\n      <td>Kilowatt-hours, million</td>\n      <td>6556.0</td>\n      <td>1.0</td>\n      <td>hydro electricity</td>\n      <td>production</td>\n      <td>NaN</td>\n      <td>Kilowatt-hours, million</td>\n      <td>3.57</td>\n      <td>renewable</td>\n      <td>23404.92</td>\n    </tr>\n    <tr>\n      <th>42921</th>\n      <td>United Kingdom</td>\n      <td>Ethane - Production</td>\n      <td>2011.0</td>\n      <td>Metric tons,  thousand</td>\n      <td>834.0</td>\n      <td>1.0</td>\n      <td>ethane</td>\n      <td>production</td>\n      <td>Isolated from Natural Gas</td>\n      <td>Metric tons, thousand</td>\n      <td>46.40</td>\n      <td>nonrenewable</td>\n      <td>38697.60</td>\n    </tr>\n    <tr>\n      <th>52171</th>\n      <td>Bolivia (Plur. State of)</td>\n      <td>Liquefied petroleum gas (LPG) - Production</td>\n      <td>1990.0</td>\n      <td>Metric tons,  thousand</td>\n      <td>194.0</td>\n      <td>1.0</td>\n      <td>liquefied petroleum gas (lpg)</td>\n      <td>production</td>\n      <td>NaN</td>\n      <td>Metric tons, thousand</td>\n      <td>47.30</td>\n      <td>nonrenewable</td>\n      <td>9176.20</td>\n    </tr>\n  </tbody>\n</table>\n</div>"
     },
     "metadata": {},
     "execution_count": 111
    }
   ],
   "source": [
    "import pandas as pd \n",
    "unit_conv = pd.read_csv('C:/Users/Rachel/OneDrive/Documents/Springboard/CAPSTONE 2/energy/renewable_energy_units_conv_2.csv')\n",
    "\n",
    "df_merge = pd.merge(df,  \n",
    "                     unit_conv,  \n",
    "                     on ='Commodity', \n",
    "                     how ='left') \n",
    "\n",
    "df_merge['TJ'] = df_merge['Quantity'] * df_merge['Conv_mt_to_tj']\n",
    "df_merge.sample(3)"
   ]
  },
  {
   "cell_type": "code",
   "execution_count": 112,
   "metadata": {},
   "outputs": [],
   "source": [
    "\n",
    "#sum all energy types, df_merge is the combination of unit conversion table and raw data to sum total TJ\n",
    "#filter by year\n",
    "lt_2018 = df_merge[df_merge['Year'] == 2018]\n",
    "#greate geo group\n",
    "tot_grp_country_2018 = lt_2018.groupby(['Geo'])\n",
    "#sum TJ by geo group\n",
    "df_tot_country_2018 = tot_grp_country_2018['TJ'].agg(['sum'])\n",
    "\n",
    "#sum all renewables\n",
    "lt_2018_r = df_merge[(df_merge['Year'] == 2018) & (df_merge['r_type'] == 'renewable')]\n",
    "tot_r_grp_country_2018 = lt_2018_r.groupby(['Geo'])\n",
    "df_tot_country_r_2018 = tot_r_grp_country_2018['TJ'].agg(['sum'])\n",
    "\n",
    "#sum all nonrenewables\n",
    "lt_2018_n = df_merge[(df_merge['Year'] == 2018) & (df_merge['r_type'] == 'nonrenewable')]\n",
    "tot_n_grp_country_2018 = lt_2018_n.groupby(['Geo'])\n",
    "df_tot_country_n_2018 = tot_n_grp_country_2018['TJ'].agg(['sum'])"
   ]
  },
  {
   "cell_type": "code",
   "execution_count": 113,
   "metadata": {},
   "outputs": [],
   "source": [
    "#merge total, renewable, and nonrenewable dataframes\n",
    "\n",
    "countries_r_2018 = pd.merge(df_tot_country_2018,  \n",
    "                     df_tot_country_r_2018,  \n",
    "                     on ='Geo', \n",
    "                     how ='left') \n",
    "\n",
    "countries_r_n_2018 = pd.merge(countries_r_2018,\n",
    "                    df_tot_country_n_2018,\n",
    "                    on = 'Geo', \n",
    "                    how = 'left')\n",
    "\n",
    "countries_r_n_2018.rename(columns={'sum_x':'total', 'sum_y': 'renew', 'sum' : 'nonrenew'}, inplace=True)\n",
    "countries_r_n_2018['percent_renewable'] = (countries_r_n_2018['renew'] / countries_r_n_2018['total'])\n",
    "countries_r_n_2018.sort_values(by='percent_renewable', ascending=False, inplace=True)\n",
    "#allsources_r_n['diff'] = allsources_r_n['renew'] + allsources_r_n['nonrenew']#\n",
    "\n",
    "\n",
    "\n",
    "\n",
    "# countries_r_n_2018.to_csv('C:/Users/Rachel/OneDrive/Documents/Springboard/CAPSTONE 2/energy/presentation links/perc_renewable_by_country_2018.csv')"
   ]
  },
  {
   "cell_type": "code",
   "execution_count": 114,
   "metadata": {},
   "outputs": [],
   "source": [
    "#sum all energy types, df_merge is the combination of unit conversion table and raw data to sum total TJ\n",
    "#filter by year\n",
    "lt_2008 = df_merge[df_merge['Year'] == 2008]\n",
    "#greate geo group\n",
    "tot_grp_country_2008 = lt_2008.groupby(['Geo'])\n",
    "#sum TJ by geo group\n",
    "df_tot_country_2008 = tot_grp_country_2008['TJ'].agg(['sum'])\n",
    "\n",
    "#sum all renewables\n",
    "lt_2008_r = df_merge[(df_merge['Year'] == 2008) & (df_merge['r_type'] == 'renewable')]\n",
    "tot_r_grp_country_2008 = lt_2008_r.groupby(['Geo'])\n",
    "df_tot_country_r_2008 = tot_r_grp_country_2008['TJ'].agg(['sum'])\n",
    "\n",
    "#sum all nonrenewables\n",
    "lt_2008_n = df_merge[(df_merge['Year'] == 2008) & (df_merge['r_type'] == 'nonrenewable')]\n",
    "tot_n_grp_country_2008 = lt_2008_n.groupby(['Geo'])\n",
    "df_tot_country_n_2008 = tot_n_grp_country_2008['TJ'].agg(['sum'])"
   ]
  },
  {
   "cell_type": "code",
   "execution_count": 115,
   "metadata": {},
   "outputs": [
    {
     "output_type": "execute_result",
     "data": {
      "text/plain": [
       "        Geo     total     renew  nonrenew  percent_renewable\n",
       "21  Iceland  58949.05  58949.05       0.0                1.0"
      ],
      "text/html": "<div>\n<style scoped>\n    .dataframe tbody tr th:only-of-type {\n        vertical-align: middle;\n    }\n\n    .dataframe tbody tr th {\n        vertical-align: top;\n    }\n\n    .dataframe thead th {\n        text-align: right;\n    }\n</style>\n<table border=\"1\" class=\"dataframe\">\n  <thead>\n    <tr style=\"text-align: right;\">\n      <th></th>\n      <th>Geo</th>\n      <th>total</th>\n      <th>renew</th>\n      <th>nonrenew</th>\n      <th>percent_renewable</th>\n    </tr>\n  </thead>\n  <tbody>\n    <tr>\n      <th>21</th>\n      <td>Iceland</td>\n      <td>58949.05</td>\n      <td>58949.05</td>\n      <td>0.0</td>\n      <td>1.0</td>\n    </tr>\n  </tbody>\n</table>\n</div>"
     },
     "metadata": {},
     "execution_count": 115
    }
   ],
   "source": [
    "#merge total, renewable, and nonrenewable dataframes\n",
    "\n",
    "countries_r_2008 = pd.merge(df_tot_country_2008,  \n",
    "                     df_tot_country_r_2008,  \n",
    "                     on ='Geo', \n",
    "                     how ='left') \n",
    "\n",
    "countries_r_n_2008 = pd.merge(countries_r_2008,\n",
    "                    df_tot_country_n_2008,\n",
    "                    on = 'Geo', \n",
    "                    how = 'left')\n",
    "\n",
    "countries_r_n_2008.rename(columns={'sum_x':'total', 'sum_y': 'renew', 'sum' : 'nonrenew'}, inplace=True)\n",
    "countries_r_n_2008['percent_renewable'] = ((countries_r_n_2008['renew'] / countries_r_n_2008['total']))\n",
    "countries_r_n_2008.sort_values(by='percent_renewable', ascending=False, inplace=True)\n",
    "countries_r_n_2008.reset_index(inplace=True)\n",
    "countries_r_n_2008.fillna(value=0, inplace=True)\n",
    "#allsources_r_n['diff'] = allsources_r_n['renew'] + allsources_r_n['nonrenew']#\n",
    "# countries_r_n_2008.to_csv('C:/Users/Rachel/OneDrive/Documents/Springboard/CAPSTONE 2/energy/presentation links/perc_renewable_by_country_2008.csv')\n",
    "\n",
    "countries_r_n_2008.loc[countries_r_n_2008['Geo'] == 'Iceland']"
   ]
  },
  {
   "cell_type": "code",
   "execution_count": 116,
   "metadata": {},
   "outputs": [
    {
     "output_type": "execute_result",
     "data": {
      "text/plain": [
       "     index      Geo  pr 2008  pr 2018  p_change\n",
       "141     21  Iceland      1.0      1.0       0.0"
      ],
      "text/html": "<div>\n<style scoped>\n    .dataframe tbody tr th:only-of-type {\n        vertical-align: middle;\n    }\n\n    .dataframe tbody tr th {\n        vertical-align: top;\n    }\n\n    .dataframe thead th {\n        text-align: right;\n    }\n</style>\n<table border=\"1\" class=\"dataframe\">\n  <thead>\n    <tr style=\"text-align: right;\">\n      <th></th>\n      <th>index</th>\n      <th>Geo</th>\n      <th>pr 2008</th>\n      <th>pr 2018</th>\n      <th>p_change</th>\n    </tr>\n  </thead>\n  <tbody>\n    <tr>\n      <th>141</th>\n      <td>21</td>\n      <td>Iceland</td>\n      <td>1.0</td>\n      <td>1.0</td>\n      <td>0.0</td>\n    </tr>\n  </tbody>\n</table>\n</div>"
     },
     "metadata": {},
     "execution_count": 116
    }
   ],
   "source": [
    "# countries_r_n_2008.drop(columns=['Geo'], inplace=True)\n",
    "# countries_r_n_2018.drop(columns=['Geo'], inplace=True)\n",
    "countries_pc_renew = pd.merge(countries_r_n_2008,  \n",
    "                     countries_r_n_2018,  \n",
    "                     on = 'Geo', \n",
    "                     how ='left') \n",
    "\n",
    "countries_pc_renew.drop(columns = ['total_x', 'renew_x', 'nonrenew_x', 'total_y', 'renew_y', 'nonrenew_y'], inplace=True)\n",
    "countries_pc_renew.rename(columns = {'percent_renewable_x':'pr 2008', 'percent_renewable_y' : 'pr 2018'}, inplace=True)\n",
    "countries_pc_renew['p_change'] = (countries_pc_renew['pr 2018'] - (countries_pc_renew['pr 2008'])) / countries_pc_renew['pr 2008']\n",
    "countries_pc_renew.sort_values('p_change', ascending=False, inplace=True)\n",
    "# countries_pc_renew = countries_pc_renew[countries_pc_renew['p_change'] < 11]\n",
    "countries_pc_renew.reset_index(inplace=True)\n",
    "countries_pc_renew['pr 2008'] = countries_pc_renew['pr 2008']\n",
    "countries_pc_renew.loc[countries_pc_renew['Geo'] == 'Iceland']\n",
    "\n",
    "# countries_pc_renew.to_csv('C:/Users/Rachel/OneDrive/Documents/Springboard/CAPSTONE 2/energy/presentation links/p_change_by_country.csv')\n"
   ]
  },
  {
   "cell_type": "code",
   "execution_count": 128,
   "metadata": {},
   "outputs": [
    {
     "output_type": "execute_result",
     "data": {
      "text/plain": [
       "       Geo    Commodity - Transaction    Year        Unit  Quantity  \\\n",
       "0  Armenia  Animal waste - Production  2018.0  Terajoules  1289.328   \n",
       "1  Armenia  Animal waste - Production  2017.0  Terajoules  2427.783   \n",
       "2  Armenia  Animal waste - Production  2016.0  Terajoules  2195.136   \n",
       "3  Armenia  Animal waste - Production  2015.0  Terajoules  1307.467   \n",
       "4  Armenia  Animal waste - Production  2014.0  Terajoules    82.000   \n",
       "\n",
       "   Quantity Footnotes     Commodity Transaction Description       Units  \\\n",
       "0                 1.0  animal waste  production         NaN  Terajoules   \n",
       "1                 1.0  animal waste  production         NaN  Terajoules   \n",
       "2                 1.0  animal waste  production         NaN  Terajoules   \n",
       "3                 1.0  animal waste  production         NaN  Terajoules   \n",
       "4                 1.0  animal waste  production         NaN  Terajoules   \n",
       "\n",
       "   Conv_mt_to_tj     r_type        TJ  \n",
       "0            1.0  renewable  1289.328  \n",
       "1            1.0  renewable  2427.783  \n",
       "2            1.0  renewable  2195.136  \n",
       "3            1.0  renewable  1307.467  \n",
       "4            1.0  renewable    82.000  "
      ],
      "text/html": "<div>\n<style scoped>\n    .dataframe tbody tr th:only-of-type {\n        vertical-align: middle;\n    }\n\n    .dataframe tbody tr th {\n        vertical-align: top;\n    }\n\n    .dataframe thead th {\n        text-align: right;\n    }\n</style>\n<table border=\"1\" class=\"dataframe\">\n  <thead>\n    <tr style=\"text-align: right;\">\n      <th></th>\n      <th>Geo</th>\n      <th>Commodity - Transaction</th>\n      <th>Year</th>\n      <th>Unit</th>\n      <th>Quantity</th>\n      <th>Quantity Footnotes</th>\n      <th>Commodity</th>\n      <th>Transaction</th>\n      <th>Description</th>\n      <th>Units</th>\n      <th>Conv_mt_to_tj</th>\n      <th>r_type</th>\n      <th>TJ</th>\n    </tr>\n  </thead>\n  <tbody>\n    <tr>\n      <th>0</th>\n      <td>Armenia</td>\n      <td>Animal waste - Production</td>\n      <td>2018.0</td>\n      <td>Terajoules</td>\n      <td>1289.328</td>\n      <td>1.0</td>\n      <td>animal waste</td>\n      <td>production</td>\n      <td>NaN</td>\n      <td>Terajoules</td>\n      <td>1.0</td>\n      <td>renewable</td>\n      <td>1289.328</td>\n    </tr>\n    <tr>\n      <th>1</th>\n      <td>Armenia</td>\n      <td>Animal waste - Production</td>\n      <td>2017.0</td>\n      <td>Terajoules</td>\n      <td>2427.783</td>\n      <td>1.0</td>\n      <td>animal waste</td>\n      <td>production</td>\n      <td>NaN</td>\n      <td>Terajoules</td>\n      <td>1.0</td>\n      <td>renewable</td>\n      <td>2427.783</td>\n    </tr>\n    <tr>\n      <th>2</th>\n      <td>Armenia</td>\n      <td>Animal waste - Production</td>\n      <td>2016.0</td>\n      <td>Terajoules</td>\n      <td>2195.136</td>\n      <td>1.0</td>\n      <td>animal waste</td>\n      <td>production</td>\n      <td>NaN</td>\n      <td>Terajoules</td>\n      <td>1.0</td>\n      <td>renewable</td>\n      <td>2195.136</td>\n    </tr>\n    <tr>\n      <th>3</th>\n      <td>Armenia</td>\n      <td>Animal waste - Production</td>\n      <td>2015.0</td>\n      <td>Terajoules</td>\n      <td>1307.467</td>\n      <td>1.0</td>\n      <td>animal waste</td>\n      <td>production</td>\n      <td>NaN</td>\n      <td>Terajoules</td>\n      <td>1.0</td>\n      <td>renewable</td>\n      <td>1307.467</td>\n    </tr>\n    <tr>\n      <th>4</th>\n      <td>Armenia</td>\n      <td>Animal waste - Production</td>\n      <td>2014.0</td>\n      <td>Terajoules</td>\n      <td>82.000</td>\n      <td>1.0</td>\n      <td>animal waste</td>\n      <td>production</td>\n      <td>NaN</td>\n      <td>Terajoules</td>\n      <td>1.0</td>\n      <td>renewable</td>\n      <td>82.000</td>\n    </tr>\n  </tbody>\n</table>\n</div>"
     },
     "metadata": {},
     "execution_count": 128
    }
   ],
   "source": [
    "df_merge.head()"
   ]
  },
  {
   "cell_type": "code",
   "execution_count": 135,
   "metadata": {
    "tags": []
   },
   "outputs": [],
   "source": [
    "#to get the breakdown of types for the top 10 'natural' group\n",
    "\n",
    "import pandas as pd\n",
    "import glob\n",
    "\n",
    "#sum all energy types, df_merge is the combination of unit conversion table and raw data to sum total TJ\n",
    "#filter by year\n",
    "for geo in df_merge['Geo'].unique() : \n",
    "    country_types = df_merge[(df_merge['Year'] == 2018) & (df_merge['Geo'] == geo)]\n",
    "    #greate geo group\n",
    "    country_type_grp = country_types.groupby(['Geo','Commodity'])\n",
    "    #sum TJ by geo group\n",
    "    country_types = country_type_grp['TJ'].agg(['sum'])\n",
    "    country_types.sort_values(by='sum', ascending=False, inplace=True)\n",
    "\n",
    "\n",
    "\n",
    "    #comment out unless you want to export 200+ csv files:\n",
    "    country_types.to_csv('C:/Users/Rachel/OneDrive/Documents/Springboard/CAPSTONE 2/energy/renewable_types_by_country/' + geo + '.csv')"
   ]
  },
  {
   "cell_type": "code",
   "execution_count": 108,
   "metadata": {},
   "outputs": [],
   "source": [
    "#export results to csv for tableau viz, keep commented out\n",
    "\n",
    "#countries_r_n.to_csv('countries_percent_renewable_2013.csv')"
   ]
  }
 ]
}