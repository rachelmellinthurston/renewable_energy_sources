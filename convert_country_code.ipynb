{
 "metadata": {
  "language_info": {
   "codemirror_mode": {
    "name": "ipython",
    "version": 3
   },
   "file_extension": ".py",
   "mimetype": "text/x-python",
   "name": "python",
   "nbconvert_exporter": "python",
   "pygments_lexer": "ipython3",
   "version": "3.8.5-final"
  },
  "orig_nbformat": 2,
  "kernelspec": {
   "name": "python3",
   "display_name": "Python 3.8.5 64-bit ('Rachel': virtualenv)",
   "metadata": {
    "interpreter": {
     "hash": "ccb7b26840b825c8924d4cfe054c3e169b8f58795accc090394d62bc14660e70"
    }
   }
  }
 },
 "nbformat": 4,
 "nbformat_minor": 2,
 "cells": [
  {
   "cell_type": "code",
   "execution_count": 1,
   "metadata": {},
   "outputs": [],
   "source": [
    "import glob\n",
    "import pandas as pd \n",
    "\n",
    "#map renewables\n",
    "\n",
    "df_renew = pd.concat(map(pd.read_csv, glob.glob('C:/Users/Rachel/OneDrive/Documents/Springboard/CAPSTONE 2/energy/raw_data_renewable/*.csv')))\n",
    "df_renew.rename(columns={'Country or Area':'Geo'}, inplace=True)\n",
    "\n",
    "#map nonrenewables\n",
    "\n",
    "df_nonrenew = pd.concat(map(pd.read_csv, glob.glob('C:/Users/Rachel/OneDrive/Documents/Springboard/CAPSTONE 2/energy/raw_data_nonrenewable/*.csv')))\n",
    "df_nonrenew.rename(columns={'Country or Area':'Geo'}, inplace=True)\n",
    "\n",
    "df = pd.concat([df_renew, df_nonrenew])\n",
    "\n",
    "#split commodity and transaction into two columns\n",
    "#defining column to split and which delimiter\n",
    "ct = df['Commodity - Transaction'].str.split('-')\n",
    "\n",
    "#assigning new columns\n",
    "df['Commodity'] = ct.str.get(0)\n",
    "df['Transaction'] = ct.str.get(1)\n",
    "\n",
    "#lowercase and remove trailing and leading spaces\n",
    "df['Commodity'] = df['Commodity'].str.lower()\n",
    "df['Commodity'] = df['Commodity'].str.strip()\n",
    "\n",
    "df['Transaction'] = df['Transaction'].str.lower()\n",
    "df['Transaction'] = df['Transaction'].str.strip()\n",
    "\n",
    "df = df[df['Transaction'] == 'production']"
   ]
  },
  {
   "cell_type": "code",
   "execution_count": 7,
   "metadata": {},
   "outputs": [
    {
     "output_type": "execute_result",
     "data": {
      "text/plain": [
       "                      Geo  Commodity - Transaction    Year  \\\n",
       "36069  Russian Federation  Brown coal - production  2000.0   \n",
       "33584         Switzerland     Bitumen - Production  1993.0   \n",
       "14509              Rwanda    Fuelwood - Production  1993.0   \n",
       "\n",
       "                         Unit  Quantity  Quantity Footnotes   Commodity  \\\n",
       "36069  Metric tons,  thousand   87786.0                 NaN  brown coal   \n",
       "33584  Metric tons,  thousand     119.0                 NaN     bitumen   \n",
       "14509  Cubic metres, thousand    3000.0                 NaN    fuelwood   \n",
       "\n",
       "      Transaction                                        Description  \\\n",
       "36069  production                           Lignite, compressed peat   \n",
       "33584  production  Asphalt, also known as bitumen, is a sticky, b...   \n",
       "14509  production                                  Wood used as fuel   \n",
       "\n",
       "                        Units  Conv_mt_to_tj        r_type         TJ  \n",
       "36069   Metric tons, thousand          14.00  nonrenewable  1229004.0  \n",
       "33584   Metric tons, thousand          40.20  nonrenewable     4783.8  \n",
       "14509  Cubic meters, thousand           9.14     renewable    27420.0  "
      ],
      "text/html": "<div>\n<style scoped>\n    .dataframe tbody tr th:only-of-type {\n        vertical-align: middle;\n    }\n\n    .dataframe tbody tr th {\n        vertical-align: top;\n    }\n\n    .dataframe thead th {\n        text-align: right;\n    }\n</style>\n<table border=\"1\" class=\"dataframe\">\n  <thead>\n    <tr style=\"text-align: right;\">\n      <th></th>\n      <th>Geo</th>\n      <th>Commodity - Transaction</th>\n      <th>Year</th>\n      <th>Unit</th>\n      <th>Quantity</th>\n      <th>Quantity Footnotes</th>\n      <th>Commodity</th>\n      <th>Transaction</th>\n      <th>Description</th>\n      <th>Units</th>\n      <th>Conv_mt_to_tj</th>\n      <th>r_type</th>\n      <th>TJ</th>\n    </tr>\n  </thead>\n  <tbody>\n    <tr>\n      <th>36069</th>\n      <td>Russian Federation</td>\n      <td>Brown coal - production</td>\n      <td>2000.0</td>\n      <td>Metric tons,  thousand</td>\n      <td>87786.0</td>\n      <td>NaN</td>\n      <td>brown coal</td>\n      <td>production</td>\n      <td>Lignite, compressed peat</td>\n      <td>Metric tons, thousand</td>\n      <td>14.00</td>\n      <td>nonrenewable</td>\n      <td>1229004.0</td>\n    </tr>\n    <tr>\n      <th>33584</th>\n      <td>Switzerland</td>\n      <td>Bitumen - Production</td>\n      <td>1993.0</td>\n      <td>Metric tons,  thousand</td>\n      <td>119.0</td>\n      <td>NaN</td>\n      <td>bitumen</td>\n      <td>production</td>\n      <td>Asphalt, also known as bitumen, is a sticky, b...</td>\n      <td>Metric tons, thousand</td>\n      <td>40.20</td>\n      <td>nonrenewable</td>\n      <td>4783.8</td>\n    </tr>\n    <tr>\n      <th>14509</th>\n      <td>Rwanda</td>\n      <td>Fuelwood - Production</td>\n      <td>1993.0</td>\n      <td>Cubic metres, thousand</td>\n      <td>3000.0</td>\n      <td>NaN</td>\n      <td>fuelwood</td>\n      <td>production</td>\n      <td>Wood used as fuel</td>\n      <td>Cubic meters, thousand</td>\n      <td>9.14</td>\n      <td>renewable</td>\n      <td>27420.0</td>\n    </tr>\n  </tbody>\n</table>\n</div>"
     },
     "metadata": {},
     "execution_count": 7
    }
   ],
   "source": [
    "import pandas as pd \n",
    "unit_conv = pd.read_csv('C:/Users/Rachel/OneDrive/Documents/Springboard/CAPSTONE 2/energy/renewable_energy_units_conv_2.csv')\n",
    "\n",
    "df_merge = pd.merge(df,  \n",
    "                     unit_conv,  \n",
    "                     on ='Commodity', \n",
    "                     how ='left') \n",
    "\n",
    "df_merge['TJ'] = df_merge['Quantity'] * df_merge['Conv_mt_to_tj']\n",
    "df_merge.sample(3)\n",
    "\n"
   ]
  },
  {
   "cell_type": "code",
   "execution_count": 9,
   "metadata": {},
   "outputs": [],
   "source": [
    "lt_2018 = df_merge[df_merge['Year'] == 2018]\n",
    "#greate geo group\n",
    "tot_grp_country = lt_2018.groupby(['Geo'])\n",
    "#sum TJ by geo group\n",
    "df_tot_country = tot_grp_country['TJ'].agg(['sum'])\n",
    "\n",
    "df_tot_country.to_csv('C:/Users/Rachel/OneDrive/Documents/Springboard/CAPSTONE 2/energy/countries_from_energy_sources.csv')"
   ]
  }
 ]
}